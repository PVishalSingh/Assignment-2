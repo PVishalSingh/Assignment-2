{
 "cells": [
  {
   "cell_type": "markdown",
   "id": "f2f32e61",
   "metadata": {},
   "source": [
    "Q1 & 2: Write a python program to scrape data for “Data Analyst” Job position in “Bangalore” location. You\n",
    "have to scrape the job-title, job-location, company_name, experience_required. You have to scrape first 10\n",
    "jobs data.\n",
    "This task will be done in following steps:\n",
    "1. First get the webpage https://www.naukri.com/\n",
    "2. Enter “Data Analyst” in “Skill, Designations, Companies” field and enter “Bangalore” in “enter the\n",
    "location” field.\n",
    "3. Then click the search button.\n",
    "4. Then scrape the data for the first 10 jobs results you get.\n",
    "5. Finally create a dataframe of the scraped data.\n"
   ]
  },
  {
   "cell_type": "code",
   "execution_count": 1,
   "id": "3e2ff6ea",
   "metadata": {},
   "outputs": [
    {
     "name": "stderr",
     "output_type": "stream",
     "text": [
      "'installing' is not recognized as an internal or external command,\n",
      "operable program or batch file.\n"
     ]
    },
    {
     "name": "stdout",
     "output_type": "stream",
     "text": [
      "Requirement already satisfied: selenium in c:\\users\\visual singh\\anaconda3\\lib\\site-packages (4.1.3)\n",
      "Requirement already satisfied: trio~=0.17 in c:\\users\\visual singh\\anaconda3\\lib\\site-packages (from selenium) (0.20.0)\n",
      "Requirement already satisfied: urllib3[secure,socks]~=1.26 in c:\\users\\visual singh\\anaconda3\\lib\\site-packages (from selenium) (1.26.4)\n",
      "Requirement already satisfied: trio-websocket~=0.9 in c:\\users\\visual singh\\anaconda3\\lib\\site-packages (from selenium) (0.9.2)\n",
      "Requirement already satisfied: attrs>=19.2.0 in c:\\users\\visual singh\\anaconda3\\lib\\site-packages (from trio~=0.17->selenium) (20.3.0)\n",
      "Requirement already satisfied: sortedcontainers in c:\\users\\visual singh\\anaconda3\\lib\\site-packages (from trio~=0.17->selenium) (2.3.0)\n",
      "Requirement already satisfied: sniffio in c:\\users\\visual singh\\anaconda3\\lib\\site-packages (from trio~=0.17->selenium) (1.2.0)\n",
      "Requirement already satisfied: cffi>=1.14 in c:\\users\\visual singh\\anaconda3\\lib\\site-packages (from trio~=0.17->selenium) (1.14.5)\n",
      "Requirement already satisfied: outcome in c:\\users\\visual singh\\anaconda3\\lib\\site-packages (from trio~=0.17->selenium) (1.1.0)\n",
      "Requirement already satisfied: async-generator>=1.9 in c:\\users\\visual singh\\anaconda3\\lib\\site-packages (from trio~=0.17->selenium) (1.10)\n",
      "Requirement already satisfied: idna in c:\\users\\visual singh\\anaconda3\\lib\\site-packages (from trio~=0.17->selenium) (2.10)\n",
      "Requirement already satisfied: pycparser in c:\\users\\visual singh\\anaconda3\\lib\\site-packages (from cffi>=1.14->trio~=0.17->selenium) (2.20)\n",
      "Requirement already satisfied: wsproto>=0.14 in c:\\users\\visual singh\\anaconda3\\lib\\site-packages (from trio-websocket~=0.9->selenium) (1.1.0)\n",
      "Requirement already satisfied: PySocks!=1.5.7,<2.0,>=1.5.6 in c:\\users\\visual singh\\anaconda3\\lib\\site-packages (from urllib3[secure,socks]~=1.26->selenium) (1.7.1)\n",
      "Requirement already satisfied: certifi in c:\\users\\visual singh\\anaconda3\\lib\\site-packages (from urllib3[secure,socks]~=1.26->selenium) (2020.12.5)\n",
      "Requirement already satisfied: cryptography>=1.3.4 in c:\\users\\visual singh\\anaconda3\\lib\\site-packages (from urllib3[secure,socks]~=1.26->selenium) (3.4.7)\n",
      "Requirement already satisfied: pyOpenSSL>=0.14 in c:\\users\\visual singh\\anaconda3\\lib\\site-packages (from urllib3[secure,socks]~=1.26->selenium) (20.0.1)\n",
      "Requirement already satisfied: six>=1.5.2 in c:\\users\\visual singh\\anaconda3\\lib\\site-packages (from pyOpenSSL>=0.14->urllib3[secure,socks]~=1.26->selenium) (1.15.0)\n",
      "Requirement already satisfied: h11<1,>=0.9.0 in c:\\users\\visual singh\\anaconda3\\lib\\site-packages (from wsproto>=0.14->trio-websocket~=0.9->selenium) (0.13.0)\n"
     ]
    }
   ],
   "source": [
    "!installing selenium\n",
    "!pip install selenium"
   ]
  },
  {
   "cell_type": "code",
   "execution_count": 2,
   "id": "17698d79",
   "metadata": {},
   "outputs": [],
   "source": [
    "# lets now import all the required libraries\n",
    "\n",
    "import selenium\n",
    "import pandas as pd\n",
    "\n",
    "from selenium import webdriver\n",
    "import warnings\n",
    "warnings.filterwarnings('ignore')\n",
    "import time"
   ]
  },
  {
   "cell_type": "code",
   "execution_count": 3,
   "id": "7008843c",
   "metadata": {},
   "outputs": [],
   "source": [
    "# Lets first connect to the web driver\n",
    "\n",
    "driver=webdriver.Chrome(r\"C:\\Users\\Visual singh\\Downloads\\chromedriver_win32\\chromedriver.exe\")"
   ]
  },
  {
   "cell_type": "code",
   "execution_count": 4,
   "id": "f6af2764",
   "metadata": {},
   "outputs": [],
   "source": [
    "#we can also run as alternative of above \n",
    "#driver=webdriver.Chrome(\"chromedriver.exe\")"
   ]
  },
  {
   "cell_type": "code",
   "execution_count": 5,
   "id": "cb94bcbd",
   "metadata": {},
   "outputs": [],
   "source": [
    "url='http://www.naukri.com/'\n",
    "driver.get(url)"
   ]
  },
  {
   "cell_type": "code",
   "execution_count": 6,
   "id": "da21a586",
   "metadata": {},
   "outputs": [],
   "source": [
    "search_job=driver.find_element_by_class_name(\"suggestor-input\")"
   ]
  },
  {
   "cell_type": "code",
   "execution_count": 7,
   "id": "5906a026",
   "metadata": {},
   "outputs": [],
   "source": [
    "# finding element for job search bar\n",
    "\n",
    "search_field_designation=driver.find_element_by_class_name('suggestor-input ')\n",
    "search_field_designation.send_keys('Data Analyst')\n",
    "search_field_location=driver.find_element_by_xpath('/html/body/div[1]/div[2]/div[3]/div/div/div[5]/div/div/div/input')\n",
    "search_field_location.send_keys('Bangalore')"
   ]
  },
  {
   "cell_type": "code",
   "execution_count": 8,
   "id": "c3c062f9",
   "metadata": {},
   "outputs": [],
   "source": [
    "search_button=driver.find_element_by_xpath('/html/body/div[1]/div[2]/div[3]/div/div/div[6]')\n",
    "search_button.click()"
   ]
  },
  {
   "cell_type": "code",
   "execution_count": 9,
   "id": "f16abaf8",
   "metadata": {},
   "outputs": [],
   "source": [
    "# Creating empty list\n",
    "\n",
    "job_titles=[]\n",
    "company_names=[]\n",
    "locations_list=[]\n",
    "experience_list=[]"
   ]
  },
  {
   "cell_type": "code",
   "execution_count": 10,
   "id": "1d494840",
   "metadata": {},
   "outputs": [
    {
     "data": {
      "text/plain": [
       "20"
      ]
     },
     "execution_count": 10,
     "metadata": {},
     "output_type": "execute_result"
    }
   ],
   "source": [
    "# extracting all the tags where we have the job titles\n",
    "\n",
    "titles_tags=driver.find_elements_by_xpath(\"//a[@class='title fw500 ellipsis']\")\n",
    "len(titles_tags)"
   ]
  },
  {
   "cell_type": "code",
   "execution_count": 11,
   "id": "71706ad7",
   "metadata": {},
   "outputs": [
    {
     "data": {
      "text/plain": [
       "[<selenium.webdriver.remote.webelement.WebElement (session=\"16152e0694a3cf88f393a8b717a36606\", element=\"8c11d404-2fbc-4afa-8669-b7b704d95243\")>,\n",
       " <selenium.webdriver.remote.webelement.WebElement (session=\"16152e0694a3cf88f393a8b717a36606\", element=\"4f292268-c3bc-4c00-a735-b5bb7b052999\")>,\n",
       " <selenium.webdriver.remote.webelement.WebElement (session=\"16152e0694a3cf88f393a8b717a36606\", element=\"2d91dd1a-31f8-423d-9aa6-18df463d7e2e\")>,\n",
       " <selenium.webdriver.remote.webelement.WebElement (session=\"16152e0694a3cf88f393a8b717a36606\", element=\"077437c5-beaa-4c68-b5bc-a0da96c70be9\")>,\n",
       " <selenium.webdriver.remote.webelement.WebElement (session=\"16152e0694a3cf88f393a8b717a36606\", element=\"2cfb6413-2f30-40ee-aeb3-7246f9b25347\")>,\n",
       " <selenium.webdriver.remote.webelement.WebElement (session=\"16152e0694a3cf88f393a8b717a36606\", element=\"d91077be-9b33-4eb1-a5b7-a5554dc13c98\")>,\n",
       " <selenium.webdriver.remote.webelement.WebElement (session=\"16152e0694a3cf88f393a8b717a36606\", element=\"7095aea0-46ff-463a-b790-42513aa304ec\")>,\n",
       " <selenium.webdriver.remote.webelement.WebElement (session=\"16152e0694a3cf88f393a8b717a36606\", element=\"abb6a3d1-683a-412a-8e5b-e38993f644ed\")>,\n",
       " <selenium.webdriver.remote.webelement.WebElement (session=\"16152e0694a3cf88f393a8b717a36606\", element=\"497157f7-da10-4dd0-9375-945f1b64f0d6\")>,\n",
       " <selenium.webdriver.remote.webelement.WebElement (session=\"16152e0694a3cf88f393a8b717a36606\", element=\"ec904934-ed4d-4adc-92b5-8c405371abb9\")>]"
      ]
     },
     "execution_count": 11,
     "metadata": {},
     "output_type": "execute_result"
    }
   ],
   "source": [
    "titles_tags[0:10]"
   ]
  },
  {
   "cell_type": "code",
   "execution_count": 12,
   "id": "281d48f4",
   "metadata": {},
   "outputs": [
    {
     "data": {
      "text/plain": [
       "['Associate - Data Analyst',\n",
       " 'Sr.Business Data Analyst',\n",
       " 'Sr Data Analyst',\n",
       " 'Senior Data Analysis Analyst',\n",
       " 'Job opportunity For Data Analyst at Trellance - India',\n",
       " 'Data Analyst',\n",
       " 'Senior Data Analyst',\n",
       " 'Master Data Management Business Analyst',\n",
       " 'Hiring For Data Analyst',\n",
       " 'Data Analyst']"
      ]
     },
     "execution_count": 12,
     "metadata": {},
     "output_type": "execute_result"
    }
   ],
   "source": [
    "# extracting all the job titles\n",
    "\n",
    "for i in titles_tags:\n",
    "    title=i.text\n",
    "    job_titles.append(title)  \n",
    "\n",
    "job_titles[0:10]"
   ]
  },
  {
   "cell_type": "raw",
   "id": "8dea61bf",
   "metadata": {},
   "source": [
    "Extracting Company Names"
   ]
  },
  {
   "cell_type": "code",
   "execution_count": 13,
   "id": "f2b10a55",
   "metadata": {},
   "outputs": [
    {
     "data": {
      "text/plain": [
       "[<selenium.webdriver.remote.webelement.WebElement (session=\"16152e0694a3cf88f393a8b717a36606\", element=\"4133ff99-ffe3-4b94-9db2-ff112ca3de09\")>,\n",
       " <selenium.webdriver.remote.webelement.WebElement (session=\"16152e0694a3cf88f393a8b717a36606\", element=\"7b831f8e-4bbe-431b-aa40-8427015d8f6c\")>,\n",
       " <selenium.webdriver.remote.webelement.WebElement (session=\"16152e0694a3cf88f393a8b717a36606\", element=\"a4ca4a5d-2edb-4f23-a50e-78dbc07e2f99\")>,\n",
       " <selenium.webdriver.remote.webelement.WebElement (session=\"16152e0694a3cf88f393a8b717a36606\", element=\"f49757dd-4458-47a8-a90f-8744b299687d\")>,\n",
       " <selenium.webdriver.remote.webelement.WebElement (session=\"16152e0694a3cf88f393a8b717a36606\", element=\"8679e546-a34f-4afa-9292-e69a4097fe57\")>,\n",
       " <selenium.webdriver.remote.webelement.WebElement (session=\"16152e0694a3cf88f393a8b717a36606\", element=\"eb80b842-c5f6-4892-a72a-de666af68a50\")>,\n",
       " <selenium.webdriver.remote.webelement.WebElement (session=\"16152e0694a3cf88f393a8b717a36606\", element=\"8fa51007-db28-41fb-bfe8-33a1ca470e05\")>,\n",
       " <selenium.webdriver.remote.webelement.WebElement (session=\"16152e0694a3cf88f393a8b717a36606\", element=\"8493a3e3-285c-4360-9a6a-b41353c286dd\")>,\n",
       " <selenium.webdriver.remote.webelement.WebElement (session=\"16152e0694a3cf88f393a8b717a36606\", element=\"7359358c-fd30-4748-b1e1-e67187fe1183\")>,\n",
       " <selenium.webdriver.remote.webelement.WebElement (session=\"16152e0694a3cf88f393a8b717a36606\", element=\"4300e4f3-f44c-4162-8d64-599f904fdc5c\")>]"
      ]
     },
     "execution_count": 13,
     "metadata": {},
     "output_type": "execute_result"
    }
   ],
   "source": [
    "# extracting all the tags where we have the company names\n",
    "\n",
    "companies_tags=driver.find_elements_by_xpath(\"//a[@class='subTitle ellipsis fleft']\")\n",
    "companies_tags[0:10]"
   ]
  },
  {
   "cell_type": "code",
   "execution_count": 14,
   "id": "a33f86e9",
   "metadata": {},
   "outputs": [
    {
     "data": {
      "text/plain": [
       "['Myntra',\n",
       " 'Collabera',\n",
       " 'Thomson Reuters',\n",
       " 'Capco',\n",
       " 'CURise Analytics Pvt. Ltd.',\n",
       " 'Thomson Reuters',\n",
       " 'KrazyBee',\n",
       " 'Accenture',\n",
       " 'Flipkart',\n",
       " 'Wipro']"
      ]
     },
     "execution_count": 14,
     "metadata": {},
     "output_type": "execute_result"
    }
   ],
   "source": [
    "# extracting all the company names\n",
    "\n",
    "for i in companies_tags:\n",
    "    company_name=i.text\n",
    "    company_names.append(company_name)  \n",
    "\n",
    "company_names[0:10]"
   ]
  },
  {
   "cell_type": "raw",
   "id": "323988f8",
   "metadata": {},
   "source": [
    "Extracting Required Experience"
   ]
  },
  {
   "cell_type": "code",
   "execution_count": 15,
   "id": "cd66a1bc",
   "metadata": {},
   "outputs": [
    {
     "data": {
      "text/plain": [
       "[<selenium.webdriver.remote.webelement.WebElement (session=\"16152e0694a3cf88f393a8b717a36606\", element=\"6457442e-1901-4bec-9e0b-ff41d48f1c2e\")>,\n",
       " <selenium.webdriver.remote.webelement.WebElement (session=\"16152e0694a3cf88f393a8b717a36606\", element=\"4dfa0384-0fa1-4bec-885b-8783f1dfd45d\")>,\n",
       " <selenium.webdriver.remote.webelement.WebElement (session=\"16152e0694a3cf88f393a8b717a36606\", element=\"4273322f-2700-44e5-ae2c-b15759f80f25\")>,\n",
       " <selenium.webdriver.remote.webelement.WebElement (session=\"16152e0694a3cf88f393a8b717a36606\", element=\"849180dd-2816-4917-bb96-7fa478688f4f\")>,\n",
       " <selenium.webdriver.remote.webelement.WebElement (session=\"16152e0694a3cf88f393a8b717a36606\", element=\"17a3c02b-f416-46ab-9000-60a9b2bd4fbb\")>,\n",
       " <selenium.webdriver.remote.webelement.WebElement (session=\"16152e0694a3cf88f393a8b717a36606\", element=\"5811f7ef-e4dc-486c-9344-b7fb269f6a0a\")>,\n",
       " <selenium.webdriver.remote.webelement.WebElement (session=\"16152e0694a3cf88f393a8b717a36606\", element=\"bbb6d79b-43d9-4b92-aa58-18b094d6c70b\")>,\n",
       " <selenium.webdriver.remote.webelement.WebElement (session=\"16152e0694a3cf88f393a8b717a36606\", element=\"e14bd893-848c-4f79-8725-698b0c78a2c2\")>,\n",
       " <selenium.webdriver.remote.webelement.WebElement (session=\"16152e0694a3cf88f393a8b717a36606\", element=\"3c479854-4ed2-4901-a1d7-9d6f9eefe3fa\")>,\n",
       " <selenium.webdriver.remote.webelement.WebElement (session=\"16152e0694a3cf88f393a8b717a36606\", element=\"20842d21-e80d-4f35-8156-05e9711bb551\")>]"
      ]
     },
     "execution_count": 15,
     "metadata": {},
     "output_type": "execute_result"
    }
   ],
   "source": [
    "# extracting all the tags where we have the experience required data\n",
    "\n",
    "experience_tags=driver.find_elements_by_xpath(\"//li[@class='fleft grey-text br2 placeHolderLi experience']/span[1]\")\n",
    "experience_tags[0:10]"
   ]
  },
  {
   "cell_type": "code",
   "execution_count": 16,
   "id": "f3c681be",
   "metadata": {},
   "outputs": [
    {
     "data": {
      "text/plain": [
       "['0-2 Yrs',\n",
       " '6-11 Yrs',\n",
       " '5-8 Yrs',\n",
       " '7-12 Yrs',\n",
       " '0-2 Yrs',\n",
       " '2-3 Yrs',\n",
       " '3-6 Yrs',\n",
       " '6-8 Yrs',\n",
       " '2-5 Yrs',\n",
       " '4-9 Yrs']"
      ]
     },
     "execution_count": 16,
     "metadata": {},
     "output_type": "execute_result"
    }
   ],
   "source": [
    "# extracting the experience required\n",
    "\n",
    "for i in experience_tags:\n",
    "    experience=i.text\n",
    "    experience_list.append(experience)  \n",
    "\n",
    "experience_list[0:10]"
   ]
  },
  {
   "cell_type": "raw",
   "id": "3362941b",
   "metadata": {},
   "source": [
    "# Extracting Job Locations"
   ]
  },
  {
   "cell_type": "code",
   "execution_count": 17,
   "id": "4aaadf17",
   "metadata": {},
   "outputs": [
    {
     "data": {
      "text/plain": [
       "[<selenium.webdriver.remote.webelement.WebElement (session=\"16152e0694a3cf88f393a8b717a36606\", element=\"18df27be-decc-454b-9234-02f064605c93\")>,\n",
       " <selenium.webdriver.remote.webelement.WebElement (session=\"16152e0694a3cf88f393a8b717a36606\", element=\"53c4738a-2c78-42fa-8ca7-2bda1c64cbd0\")>,\n",
       " <selenium.webdriver.remote.webelement.WebElement (session=\"16152e0694a3cf88f393a8b717a36606\", element=\"6a534f18-bd9e-4765-ad50-6dfe61dd038a\")>,\n",
       " <selenium.webdriver.remote.webelement.WebElement (session=\"16152e0694a3cf88f393a8b717a36606\", element=\"b481cb72-37ac-427d-8a0e-2078e88452ce\")>,\n",
       " <selenium.webdriver.remote.webelement.WebElement (session=\"16152e0694a3cf88f393a8b717a36606\", element=\"5d38358e-8c40-4b52-b9a7-23aabddad9a9\")>,\n",
       " <selenium.webdriver.remote.webelement.WebElement (session=\"16152e0694a3cf88f393a8b717a36606\", element=\"0d66692c-77ad-46d4-978d-44779e9be123\")>,\n",
       " <selenium.webdriver.remote.webelement.WebElement (session=\"16152e0694a3cf88f393a8b717a36606\", element=\"d90b9d6b-dece-44a5-8ad7-25406b180bea\")>,\n",
       " <selenium.webdriver.remote.webelement.WebElement (session=\"16152e0694a3cf88f393a8b717a36606\", element=\"91bc5f93-9323-4a1a-b10e-e2b7159c3065\")>,\n",
       " <selenium.webdriver.remote.webelement.WebElement (session=\"16152e0694a3cf88f393a8b717a36606\", element=\"7fcae41a-5c66-4893-93c9-0a7ed20aefb8\")>,\n",
       " <selenium.webdriver.remote.webelement.WebElement (session=\"16152e0694a3cf88f393a8b717a36606\", element=\"3408bd69-a8e1-4302-bb79-001415805a4b\")>]"
      ]
     },
     "execution_count": 17,
     "metadata": {},
     "output_type": "execute_result"
    }
   ],
   "source": [
    "# extracting all the tags where we have the experience required data\n",
    "\n",
    "locations_tags=driver.find_elements_by_xpath(\"//li[@class='fleft grey-text br2 placeHolderLi location']/span[1]\")\n",
    "locations_tags[0:10]"
   ]
  },
  {
   "cell_type": "code",
   "execution_count": 18,
   "id": "eaa748e3",
   "metadata": {},
   "outputs": [
    {
     "data": {
      "text/plain": [
       "['Bangalore/Bengaluru',\n",
       " 'Bangalore/Bengaluru, karnataka',\n",
       " 'Bangalore/Bengaluru',\n",
       " 'Bangalore/Bengaluru, Pune, Chennai',\n",
       " 'Bangalore/Bengaluru, Ahmedabad',\n",
       " 'Bangalore/Bengaluru',\n",
       " 'Bangalore/Bengaluru(Old Madras Road)',\n",
       " 'Bangalore/Bengaluru',\n",
       " 'Bangalore/Bengaluru',\n",
       " 'Bangalore/Bengaluru, Noida, Hyderabad/Secunderabad, Gurgaon/Gurugram, Chennai, Mumbai (All Areas), Pune']"
      ]
     },
     "execution_count": 18,
     "metadata": {},
     "output_type": "execute_result"
    }
   ],
   "source": [
    "# extracting the experience required\n",
    "\n",
    "for i in locations_tags:\n",
    "    location=i.text\n",
    "    locations_list.append(location)  \n",
    "\n",
    "locations_list[0:10]"
   ]
  },
  {
   "cell_type": "code",
   "execution_count": 19,
   "id": "4d7dcd88",
   "metadata": {},
   "outputs": [
    {
     "name": "stdout",
     "output_type": "stream",
     "text": [
      "20 20 20 20\n"
     ]
    }
   ],
   "source": [
    "# checking the length of each list\n",
    "\n",
    "print(len(job_titles),len(company_names),len(experience_list),len(locations_list))"
   ]
  },
  {
   "cell_type": "code",
   "execution_count": 20,
   "id": "653a99a7",
   "metadata": {},
   "outputs": [],
   "source": [
    "import pandas as pd"
   ]
  },
  {
   "cell_type": "code",
   "execution_count": 21,
   "id": "7b77a731",
   "metadata": {},
   "outputs": [],
   "source": [
    "# creating dataframe\n",
    "\n",
    "jobs=pd.DataFrame({})\n",
    "\n",
    "jobs['title']=job_titles\n",
    "jobs['company']=company_names\n",
    "jobs['experience_required']=experience_list\n",
    "jobs['locations']=locations_list"
   ]
  },
  {
   "cell_type": "code",
   "execution_count": 22,
   "id": "029ed51a",
   "metadata": {},
   "outputs": [
    {
     "data": {
      "text/html": [
       "<div>\n",
       "<style scoped>\n",
       "    .dataframe tbody tr th:only-of-type {\n",
       "        vertical-align: middle;\n",
       "    }\n",
       "\n",
       "    .dataframe tbody tr th {\n",
       "        vertical-align: top;\n",
       "    }\n",
       "\n",
       "    .dataframe thead th {\n",
       "        text-align: right;\n",
       "    }\n",
       "</style>\n",
       "<table border=\"1\" class=\"dataframe\">\n",
       "  <thead>\n",
       "    <tr style=\"text-align: right;\">\n",
       "      <th></th>\n",
       "      <th>title</th>\n",
       "      <th>company</th>\n",
       "      <th>experience_required</th>\n",
       "      <th>locations</th>\n",
       "    </tr>\n",
       "  </thead>\n",
       "  <tbody>\n",
       "    <tr>\n",
       "      <th>0</th>\n",
       "      <td>Associate - Data Analyst</td>\n",
       "      <td>Myntra</td>\n",
       "      <td>0-2 Yrs</td>\n",
       "      <td>Bangalore/Bengaluru</td>\n",
       "    </tr>\n",
       "    <tr>\n",
       "      <th>1</th>\n",
       "      <td>Sr.Business Data Analyst</td>\n",
       "      <td>Collabera</td>\n",
       "      <td>6-11 Yrs</td>\n",
       "      <td>Bangalore/Bengaluru, karnataka</td>\n",
       "    </tr>\n",
       "    <tr>\n",
       "      <th>2</th>\n",
       "      <td>Sr Data Analyst</td>\n",
       "      <td>Thomson Reuters</td>\n",
       "      <td>5-8 Yrs</td>\n",
       "      <td>Bangalore/Bengaluru</td>\n",
       "    </tr>\n",
       "    <tr>\n",
       "      <th>3</th>\n",
       "      <td>Senior Data Analysis Analyst</td>\n",
       "      <td>Capco</td>\n",
       "      <td>7-12 Yrs</td>\n",
       "      <td>Bangalore/Bengaluru, Pune, Chennai</td>\n",
       "    </tr>\n",
       "    <tr>\n",
       "      <th>4</th>\n",
       "      <td>Job opportunity For Data Analyst at Trellance ...</td>\n",
       "      <td>CURise Analytics Pvt. Ltd.</td>\n",
       "      <td>0-2 Yrs</td>\n",
       "      <td>Bangalore/Bengaluru, Ahmedabad</td>\n",
       "    </tr>\n",
       "    <tr>\n",
       "      <th>5</th>\n",
       "      <td>Data Analyst</td>\n",
       "      <td>Thomson Reuters</td>\n",
       "      <td>2-3 Yrs</td>\n",
       "      <td>Bangalore/Bengaluru</td>\n",
       "    </tr>\n",
       "    <tr>\n",
       "      <th>6</th>\n",
       "      <td>Senior Data Analyst</td>\n",
       "      <td>KrazyBee</td>\n",
       "      <td>3-6 Yrs</td>\n",
       "      <td>Bangalore/Bengaluru(Old Madras Road)</td>\n",
       "    </tr>\n",
       "    <tr>\n",
       "      <th>7</th>\n",
       "      <td>Master Data Management Business Analyst</td>\n",
       "      <td>Accenture</td>\n",
       "      <td>6-8 Yrs</td>\n",
       "      <td>Bangalore/Bengaluru</td>\n",
       "    </tr>\n",
       "    <tr>\n",
       "      <th>8</th>\n",
       "      <td>Hiring For Data Analyst</td>\n",
       "      <td>Flipkart</td>\n",
       "      <td>2-5 Yrs</td>\n",
       "      <td>Bangalore/Bengaluru</td>\n",
       "    </tr>\n",
       "    <tr>\n",
       "      <th>9</th>\n",
       "      <td>Data Analyst</td>\n",
       "      <td>Wipro</td>\n",
       "      <td>4-9 Yrs</td>\n",
       "      <td>Bangalore/Bengaluru, Noida, Hyderabad/Secunder...</td>\n",
       "    </tr>\n",
       "  </tbody>\n",
       "</table>\n",
       "</div>"
      ],
      "text/plain": [
       "                                               title  \\\n",
       "0                           Associate - Data Analyst   \n",
       "1                           Sr.Business Data Analyst   \n",
       "2                                    Sr Data Analyst   \n",
       "3                       Senior Data Analysis Analyst   \n",
       "4  Job opportunity For Data Analyst at Trellance ...   \n",
       "5                                       Data Analyst   \n",
       "6                                Senior Data Analyst   \n",
       "7            Master Data Management Business Analyst   \n",
       "8                            Hiring For Data Analyst   \n",
       "9                                       Data Analyst   \n",
       "\n",
       "                      company experience_required  \\\n",
       "0                      Myntra             0-2 Yrs   \n",
       "1                   Collabera            6-11 Yrs   \n",
       "2             Thomson Reuters             5-8 Yrs   \n",
       "3                       Capco            7-12 Yrs   \n",
       "4  CURise Analytics Pvt. Ltd.             0-2 Yrs   \n",
       "5             Thomson Reuters             2-3 Yrs   \n",
       "6                    KrazyBee             3-6 Yrs   \n",
       "7                   Accenture             6-8 Yrs   \n",
       "8                    Flipkart             2-5 Yrs   \n",
       "9                       Wipro             4-9 Yrs   \n",
       "\n",
       "                                           locations  \n",
       "0                                Bangalore/Bengaluru  \n",
       "1                     Bangalore/Bengaluru, karnataka  \n",
       "2                                Bangalore/Bengaluru  \n",
       "3                 Bangalore/Bengaluru, Pune, Chennai  \n",
       "4                     Bangalore/Bengaluru, Ahmedabad  \n",
       "5                                Bangalore/Bengaluru  \n",
       "6               Bangalore/Bengaluru(Old Madras Road)  \n",
       "7                                Bangalore/Bengaluru  \n",
       "8                                Bangalore/Bengaluru  \n",
       "9  Bangalore/Bengaluru, Noida, Hyderabad/Secunder...  "
      ]
     },
     "execution_count": 22,
     "metadata": {},
     "output_type": "execute_result"
    }
   ],
   "source": [
    "jobs[0:10]"
   ]
  },
  {
   "cell_type": "markdown",
   "id": "a6b1d8f8",
   "metadata": {},
   "source": [
    "Q3: You have to use the location and salary filter.\n",
    "You have to scrape data for “Data Scientist” designation for first 10 job results.\n",
    "You have to scrape the job-title, job-location, company name, experience required.\n",
    "The location filter to be used is “Delhi/NCR”. The salary filter to be used is “3-6” lakhs\n",
    "The task will be done as shown in the below steps:\n",
    "1. first get the webpage https://www.naukri.com/\n",
    "2. Enter “Data Scientist” in “Skill, Designations, and Companies” field.\n",
    "3. Then click the search button.\n",
    "4. Then apply the location filter and salary filter by checking the respective boxes\n",
    "5. Then scrape the data for the first 10 jobs results you get.\n",
    "6. Finally create a dataframe of the scraped data.\n"
   ]
  },
  {
   "cell_type": "code",
   "execution_count": 23,
   "id": "15e2ada1",
   "metadata": {},
   "outputs": [],
   "source": [
    "# lets now import all the required libraries\n",
    "\n",
    "import selenium\n",
    "import pandas as pd\n",
    "\n",
    "from selenium import webdriver\n",
    "import warnings\n",
    "warnings.filterwarnings('ignore')\n",
    "import time"
   ]
  },
  {
   "cell_type": "code",
   "execution_count": 24,
   "id": "77ca1b40",
   "metadata": {},
   "outputs": [],
   "source": [
    "# Lets first connect to the web driver\n",
    "\n",
    "driver=webdriver.Chrome(r\"C:\\Users\\Visual singh\\Downloads\\chromedriver_win32\\chromedriver.exe\")"
   ]
  },
  {
   "cell_type": "code",
   "execution_count": 25,
   "id": "920a5331",
   "metadata": {},
   "outputs": [],
   "source": [
    "link='http://www.naukri.com/'\n",
    "driver.get(link)"
   ]
  },
  {
   "cell_type": "code",
   "execution_count": 26,
   "id": "04d37515",
   "metadata": {},
   "outputs": [],
   "source": [
    "search_job=driver.find_element_by_class_name(\"suggestor-input\")"
   ]
  },
  {
   "cell_type": "code",
   "execution_count": 27,
   "id": "0f50d75c",
   "metadata": {},
   "outputs": [],
   "source": [
    "# finding element for job search bar\n",
    "\n",
    "search_field_designation=driver.find_element_by_class_name('suggestor-input ')\n",
    "search_field_designation.send_keys('Data Scientist')\n",
    "search_field_location=driver.find_element_by_xpath('/html/body/div[1]/div[2]/div[3]/div/div/div[5]/div/div/div/input')\n",
    "search_field_location.send_keys('Delhi/NCR')"
   ]
  },
  {
   "cell_type": "code",
   "execution_count": 28,
   "id": "0f023b57",
   "metadata": {},
   "outputs": [],
   "source": [
    "search_button=driver.find_element_by_xpath('/html/body/div[1]/div[2]/div[3]/div/div/div[6]')\n",
    "search_button.click()"
   ]
  },
  {
   "cell_type": "code",
   "execution_count": 29,
   "id": "640f1f8d",
   "metadata": {},
   "outputs": [],
   "source": [
    "salary_check = driver.find_element_by_xpath('/html/body/div[1]/div[3]/div[2]/section[1]/div[2]/div[5]/div[2]/div[2]/label/i')"
   ]
  },
  {
   "cell_type": "code",
   "execution_count": 30,
   "id": "4e136a7f",
   "metadata": {},
   "outputs": [],
   "source": [
    "salary_check.click()"
   ]
  },
  {
   "cell_type": "code",
   "execution_count": 31,
   "id": "c698b8aa",
   "metadata": {},
   "outputs": [],
   "source": [
    "search_location=driver.find_element_by_xpath('/html/body/div[1]/div[3]/div[2]/section[1]/div[2]/div[13]/div[2]/div[3]/label/i')\n",
    "search_location.click()"
   ]
  },
  {
   "cell_type": "code",
   "execution_count": 32,
   "id": "037be656",
   "metadata": {},
   "outputs": [],
   "source": [
    "# Creating empty list\n",
    "\n",
    "job_titles=[]\n",
    "company_names=[]\n",
    "locations_list=[]\n",
    "experience_list=[]"
   ]
  },
  {
   "cell_type": "code",
   "execution_count": 33,
   "id": "f095d078",
   "metadata": {},
   "outputs": [
    {
     "data": {
      "text/plain": [
       "20"
      ]
     },
     "execution_count": 33,
     "metadata": {},
     "output_type": "execute_result"
    }
   ],
   "source": [
    "# extracting all the tags where we have the job titles\n",
    "\n",
    "titles_tags=driver.find_elements_by_xpath(\"//a[@class='title fw500 ellipsis']\")\n",
    "len(titles_tags)"
   ]
  },
  {
   "cell_type": "code",
   "execution_count": 34,
   "id": "a2b3d5cd",
   "metadata": {},
   "outputs": [
    {
     "data": {
      "text/plain": [
       "[<selenium.webdriver.remote.webelement.WebElement (session=\"652540baac31cacbdd1d397bd2c7f4ff\", element=\"16794b01-f598-416b-bc01-a008b7af7966\")>,\n",
       " <selenium.webdriver.remote.webelement.WebElement (session=\"652540baac31cacbdd1d397bd2c7f4ff\", element=\"f1790c60-0eff-4e99-a3e2-1674e6137b7a\")>,\n",
       " <selenium.webdriver.remote.webelement.WebElement (session=\"652540baac31cacbdd1d397bd2c7f4ff\", element=\"2619ca9d-6010-40b3-bc80-ff0145e5f808\")>,\n",
       " <selenium.webdriver.remote.webelement.WebElement (session=\"652540baac31cacbdd1d397bd2c7f4ff\", element=\"72e05e0d-c6f6-4583-adf0-12a2cf80099f\")>,\n",
       " <selenium.webdriver.remote.webelement.WebElement (session=\"652540baac31cacbdd1d397bd2c7f4ff\", element=\"1ee17463-a4cd-4302-a70b-b878ca18c216\")>,\n",
       " <selenium.webdriver.remote.webelement.WebElement (session=\"652540baac31cacbdd1d397bd2c7f4ff\", element=\"91e12356-deb0-40a9-9db3-a6c9e3c01b47\")>,\n",
       " <selenium.webdriver.remote.webelement.WebElement (session=\"652540baac31cacbdd1d397bd2c7f4ff\", element=\"335ef796-54fb-4609-bf2e-f27fef4f3379\")>,\n",
       " <selenium.webdriver.remote.webelement.WebElement (session=\"652540baac31cacbdd1d397bd2c7f4ff\", element=\"17fda562-7198-4a95-b3a0-92c7c9012464\")>,\n",
       " <selenium.webdriver.remote.webelement.WebElement (session=\"652540baac31cacbdd1d397bd2c7f4ff\", element=\"7f63970e-0c34-4f2e-a1b2-8da71002f7b1\")>,\n",
       " <selenium.webdriver.remote.webelement.WebElement (session=\"652540baac31cacbdd1d397bd2c7f4ff\", element=\"384790b8-291e-4e03-8354-763cfe517ad5\")>]"
      ]
     },
     "execution_count": 34,
     "metadata": {},
     "output_type": "execute_result"
    }
   ],
   "source": [
    "titles_tags[0:10]"
   ]
  },
  {
   "cell_type": "code",
   "execution_count": 35,
   "id": "624f21e5",
   "metadata": {},
   "outputs": [
    {
     "data": {
      "text/plain": [
       "['DigitalBCG GAMMA Data Scientist',\n",
       " 'Senior Associate - Data Science',\n",
       " 'Data Scientist - Noida/Bangalore',\n",
       " 'Data Scientist For Healthcare Product team',\n",
       " 'Data Scientist For Healthcare Product team',\n",
       " 'Data Scientist - Machine learning AI',\n",
       " 'Data Scientist - MIND Infotech',\n",
       " 'Data Scientist - Engine Algorithm',\n",
       " 'Knowledge/Data Scientist',\n",
       " 'Data Scientist']"
      ]
     },
     "execution_count": 35,
     "metadata": {},
     "output_type": "execute_result"
    }
   ],
   "source": [
    "# extracting all the job titles\n",
    "\n",
    "for i in titles_tags:\n",
    "    title=i.text\n",
    "    job_titles.append(title)  \n",
    "\n",
    "job_titles[0:10]"
   ]
  },
  {
   "cell_type": "raw",
   "id": "c07c46e7",
   "metadata": {},
   "source": [
    "Extracting Company Names"
   ]
  },
  {
   "cell_type": "code",
   "execution_count": 36,
   "id": "ebc27ee7",
   "metadata": {},
   "outputs": [
    {
     "data": {
      "text/plain": [
       "[<selenium.webdriver.remote.webelement.WebElement (session=\"652540baac31cacbdd1d397bd2c7f4ff\", element=\"b7cdfc46-2ac9-4c31-b16d-83666f29749e\")>,\n",
       " <selenium.webdriver.remote.webelement.WebElement (session=\"652540baac31cacbdd1d397bd2c7f4ff\", element=\"53d0b959-5e00-41e5-a8c0-390b9a14d6cc\")>,\n",
       " <selenium.webdriver.remote.webelement.WebElement (session=\"652540baac31cacbdd1d397bd2c7f4ff\", element=\"74fd93ec-c157-4327-93a7-84bc405f4031\")>,\n",
       " <selenium.webdriver.remote.webelement.WebElement (session=\"652540baac31cacbdd1d397bd2c7f4ff\", element=\"ef0fe04e-5493-4b4b-9830-3630593e9350\")>,\n",
       " <selenium.webdriver.remote.webelement.WebElement (session=\"652540baac31cacbdd1d397bd2c7f4ff\", element=\"10043654-f76b-486a-aa4c-f213e8aa4284\")>,\n",
       " <selenium.webdriver.remote.webelement.WebElement (session=\"652540baac31cacbdd1d397bd2c7f4ff\", element=\"2d5b3e4c-04ab-4a7e-9971-c58181af8c41\")>,\n",
       " <selenium.webdriver.remote.webelement.WebElement (session=\"652540baac31cacbdd1d397bd2c7f4ff\", element=\"d9c29a92-4fc7-4da8-b8fc-2df3c546d09f\")>,\n",
       " <selenium.webdriver.remote.webelement.WebElement (session=\"652540baac31cacbdd1d397bd2c7f4ff\", element=\"50e6cb20-80b9-49ba-b6c8-ce8752018e8d\")>,\n",
       " <selenium.webdriver.remote.webelement.WebElement (session=\"652540baac31cacbdd1d397bd2c7f4ff\", element=\"92f8cf1e-27b3-490b-9375-adecd02364a6\")>,\n",
       " <selenium.webdriver.remote.webelement.WebElement (session=\"652540baac31cacbdd1d397bd2c7f4ff\", element=\"245297ef-d5de-4795-a343-373d6f1ed722\")>]"
      ]
     },
     "execution_count": 36,
     "metadata": {},
     "output_type": "execute_result"
    }
   ],
   "source": [
    "# extracting all the tags where we have the company names\n",
    "\n",
    "companies_tags=driver.find_elements_by_xpath(\"//a[@class='subTitle ellipsis fleft']\")\n",
    "companies_tags[0:10]"
   ]
  },
  {
   "cell_type": "code",
   "execution_count": 37,
   "id": "b202d8a8",
   "metadata": {},
   "outputs": [
    {
     "data": {
      "text/plain": [
       "['Boston Consulting Group',\n",
       " 'Black Turtle',\n",
       " 'EXL',\n",
       " '8KMiles Software Services',\n",
       " '8KMiles Software Services',\n",
       " 'Teq Analytics',\n",
       " 'MOTHERSONSUMI INFOTECH & DESIGNS LIMITED',\n",
       " 'Primo Hiring',\n",
       " 'BOLD Technology Systems',\n",
       " 'Mount Talent Consulting Private Limited']"
      ]
     },
     "execution_count": 37,
     "metadata": {},
     "output_type": "execute_result"
    }
   ],
   "source": [
    "# extracting all the company names\n",
    "\n",
    "for i in companies_tags:\n",
    "    company_name=i.text\n",
    "    company_names.append(company_name)  \n",
    "\n",
    "company_names[0:10]"
   ]
  },
  {
   "cell_type": "raw",
   "id": "ee6af491",
   "metadata": {},
   "source": [
    "Extracting Required Experience"
   ]
  },
  {
   "cell_type": "code",
   "execution_count": 38,
   "id": "05890d2d",
   "metadata": {},
   "outputs": [
    {
     "data": {
      "text/plain": [
       "[<selenium.webdriver.remote.webelement.WebElement (session=\"652540baac31cacbdd1d397bd2c7f4ff\", element=\"814cfd92-3a7a-4fa3-97b0-94907ded3143\")>,\n",
       " <selenium.webdriver.remote.webelement.WebElement (session=\"652540baac31cacbdd1d397bd2c7f4ff\", element=\"0906d8a5-74a8-470a-8f3c-765281518bde\")>,\n",
       " <selenium.webdriver.remote.webelement.WebElement (session=\"652540baac31cacbdd1d397bd2c7f4ff\", element=\"70f814b9-1511-466f-b888-383448f3b886\")>,\n",
       " <selenium.webdriver.remote.webelement.WebElement (session=\"652540baac31cacbdd1d397bd2c7f4ff\", element=\"a1ce9655-832e-4e37-9dd1-a23ec0f9d16f\")>,\n",
       " <selenium.webdriver.remote.webelement.WebElement (session=\"652540baac31cacbdd1d397bd2c7f4ff\", element=\"72287746-76bb-4c86-9dcc-d662bb7d7ede\")>,\n",
       " <selenium.webdriver.remote.webelement.WebElement (session=\"652540baac31cacbdd1d397bd2c7f4ff\", element=\"7c019d28-7ab9-4a2d-ab28-63f483a035a2\")>,\n",
       " <selenium.webdriver.remote.webelement.WebElement (session=\"652540baac31cacbdd1d397bd2c7f4ff\", element=\"5c022d3e-00c4-446f-8d44-c36d689de30e\")>,\n",
       " <selenium.webdriver.remote.webelement.WebElement (session=\"652540baac31cacbdd1d397bd2c7f4ff\", element=\"9788f381-6eec-4561-9140-24dc0cd6cd6e\")>,\n",
       " <selenium.webdriver.remote.webelement.WebElement (session=\"652540baac31cacbdd1d397bd2c7f4ff\", element=\"db8d4892-2dab-4540-8f0e-41e9a25bc372\")>,\n",
       " <selenium.webdriver.remote.webelement.WebElement (session=\"652540baac31cacbdd1d397bd2c7f4ff\", element=\"8351810f-1e54-44bc-8643-5da8eef8222f\")>]"
      ]
     },
     "execution_count": 38,
     "metadata": {},
     "output_type": "execute_result"
    }
   ],
   "source": [
    "# extracting all the tags where we have the experience required data\n",
    "\n",
    "experience_tags=driver.find_elements_by_xpath(\"//li[@class='fleft grey-text br2 placeHolderLi experience']/span[1]\")\n",
    "experience_tags[0:10]"
   ]
  },
  {
   "cell_type": "code",
   "execution_count": 39,
   "id": "dffb4cfb",
   "metadata": {},
   "outputs": [
    {
     "data": {
      "text/plain": [
       "['2-5 Yrs',\n",
       " '4-7 Yrs',\n",
       " '5-10 Yrs',\n",
       " '2-7 Yrs',\n",
       " '2-7 Yrs',\n",
       " '3-8 Yrs',\n",
       " '4-8 Yrs',\n",
       " '1-3 Yrs',\n",
       " '3-6 Yrs',\n",
       " '2-4 Yrs']"
      ]
     },
     "execution_count": 39,
     "metadata": {},
     "output_type": "execute_result"
    }
   ],
   "source": [
    "# extracting the experience required\n",
    "\n",
    "for i in experience_tags:\n",
    "    experience=i.text\n",
    "    experience_list.append(experience)  \n",
    "\n",
    "experience_list[0:10]"
   ]
  },
  {
   "cell_type": "raw",
   "id": "16d7aa0d",
   "metadata": {},
   "source": [
    "Extracting Job Locations"
   ]
  },
  {
   "cell_type": "code",
   "execution_count": 40,
   "id": "9fee9809",
   "metadata": {},
   "outputs": [
    {
     "data": {
      "text/plain": [
       "[<selenium.webdriver.remote.webelement.WebElement (session=\"652540baac31cacbdd1d397bd2c7f4ff\", element=\"d85d4a1f-2ce3-4851-81ed-418303bce949\")>,\n",
       " <selenium.webdriver.remote.webelement.WebElement (session=\"652540baac31cacbdd1d397bd2c7f4ff\", element=\"b75f1e80-1e8b-4341-8073-c72792423bec\")>,\n",
       " <selenium.webdriver.remote.webelement.WebElement (session=\"652540baac31cacbdd1d397bd2c7f4ff\", element=\"8f07dd34-ad42-42ca-be7c-d60ccb016310\")>,\n",
       " <selenium.webdriver.remote.webelement.WebElement (session=\"652540baac31cacbdd1d397bd2c7f4ff\", element=\"e3d0fbd7-e748-4bd9-a7ec-c401fa47be0b\")>,\n",
       " <selenium.webdriver.remote.webelement.WebElement (session=\"652540baac31cacbdd1d397bd2c7f4ff\", element=\"db5e09b7-923c-4c0e-84bb-5ca09569bcf6\")>,\n",
       " <selenium.webdriver.remote.webelement.WebElement (session=\"652540baac31cacbdd1d397bd2c7f4ff\", element=\"f06362ce-19ff-4a43-878d-c87467a76c62\")>,\n",
       " <selenium.webdriver.remote.webelement.WebElement (session=\"652540baac31cacbdd1d397bd2c7f4ff\", element=\"44ce9a81-2ec5-4b7a-94af-87b8a28947fc\")>,\n",
       " <selenium.webdriver.remote.webelement.WebElement (session=\"652540baac31cacbdd1d397bd2c7f4ff\", element=\"23711468-f449-49d9-af69-77357a4b6c7b\")>,\n",
       " <selenium.webdriver.remote.webelement.WebElement (session=\"652540baac31cacbdd1d397bd2c7f4ff\", element=\"64076570-8574-41ab-ae34-02e1299baade\")>,\n",
       " <selenium.webdriver.remote.webelement.WebElement (session=\"652540baac31cacbdd1d397bd2c7f4ff\", element=\"3815af14-629b-41e5-addd-5a56bf36ffd2\")>]"
      ]
     },
     "execution_count": 40,
     "metadata": {},
     "output_type": "execute_result"
    }
   ],
   "source": [
    "# extracting all the tags where we have the experience required data\n",
    "\n",
    "locations_tags=driver.find_elements_by_xpath(\"//li[@class='fleft grey-text br2 placeHolderLi location']/span[1]\")\n",
    "locations_tags[0:10]"
   ]
  },
  {
   "cell_type": "code",
   "execution_count": 41,
   "id": "502b466d",
   "metadata": {},
   "outputs": [
    {
     "data": {
      "text/plain": [
       "['New Delhi, Bangalore/Bengaluru',\n",
       " 'Mumbai, Hyderabad/Secunderabad, Gurgaon/Gurugram, Bangalore/Bengaluru',\n",
       " 'Noida, Bangalore/Bengaluru',\n",
       " 'Delhi / NCR, Chennai, Bangalore/Bengaluru',\n",
       " 'Delhi / NCR, Chennai, Bangalore/Bengaluru',\n",
       " 'Delhi / NCR, Bangalore/Bengaluru, Mumbai (All Areas)',\n",
       " 'Noida',\n",
       " 'Delhi / NCR, Kolkata, Mumbai, Hyderabad/Secunderabad, Lucknow, Chennai, Ahmedabad, Bangalore/Bengaluru',\n",
       " 'Delhi / NCR',\n",
       " 'Delhi / NCR, Pune, Bangalore/Bengaluru']"
      ]
     },
     "execution_count": 41,
     "metadata": {},
     "output_type": "execute_result"
    }
   ],
   "source": [
    "# extracting the experience required\n",
    "\n",
    "for i in locations_tags:\n",
    "    location=i.text\n",
    "    locations_list.append(location)  \n",
    "\n",
    "locations_list[0:10]"
   ]
  },
  {
   "cell_type": "code",
   "execution_count": 42,
   "id": "96f2a573",
   "metadata": {},
   "outputs": [
    {
     "name": "stdout",
     "output_type": "stream",
     "text": [
      "20 20 20 20\n"
     ]
    }
   ],
   "source": [
    "# checking the length of each list\n",
    "\n",
    "print(len(job_titles),len(company_names),len(experience_list),len(locations_list))"
   ]
  },
  {
   "cell_type": "code",
   "execution_count": 43,
   "id": "ca3d2be8",
   "metadata": {},
   "outputs": [],
   "source": [
    "# creating dataframe\n",
    "\n",
    "jobs=pd.DataFrame({})\n",
    "\n",
    "jobs['title']=job_titles\n",
    "jobs['company']=company_names\n",
    "jobs['experience_required']=experience_list\n",
    "jobs['locations']=locations_list"
   ]
  },
  {
   "cell_type": "code",
   "execution_count": 44,
   "id": "f4070772",
   "metadata": {},
   "outputs": [
    {
     "data": {
      "text/html": [
       "<div>\n",
       "<style scoped>\n",
       "    .dataframe tbody tr th:only-of-type {\n",
       "        vertical-align: middle;\n",
       "    }\n",
       "\n",
       "    .dataframe tbody tr th {\n",
       "        vertical-align: top;\n",
       "    }\n",
       "\n",
       "    .dataframe thead th {\n",
       "        text-align: right;\n",
       "    }\n",
       "</style>\n",
       "<table border=\"1\" class=\"dataframe\">\n",
       "  <thead>\n",
       "    <tr style=\"text-align: right;\">\n",
       "      <th></th>\n",
       "      <th>title</th>\n",
       "      <th>company</th>\n",
       "      <th>experience_required</th>\n",
       "      <th>locations</th>\n",
       "    </tr>\n",
       "  </thead>\n",
       "  <tbody>\n",
       "    <tr>\n",
       "      <th>0</th>\n",
       "      <td>DigitalBCG GAMMA Data Scientist</td>\n",
       "      <td>Boston Consulting Group</td>\n",
       "      <td>2-5 Yrs</td>\n",
       "      <td>New Delhi, Bangalore/Bengaluru</td>\n",
       "    </tr>\n",
       "    <tr>\n",
       "      <th>1</th>\n",
       "      <td>Senior Associate - Data Science</td>\n",
       "      <td>Black Turtle</td>\n",
       "      <td>4-7 Yrs</td>\n",
       "      <td>Mumbai, Hyderabad/Secunderabad, Gurgaon/Gurugr...</td>\n",
       "    </tr>\n",
       "    <tr>\n",
       "      <th>2</th>\n",
       "      <td>Data Scientist - Noida/Bangalore</td>\n",
       "      <td>EXL</td>\n",
       "      <td>5-10 Yrs</td>\n",
       "      <td>Noida, Bangalore/Bengaluru</td>\n",
       "    </tr>\n",
       "    <tr>\n",
       "      <th>3</th>\n",
       "      <td>Data Scientist For Healthcare Product team</td>\n",
       "      <td>8KMiles Software Services</td>\n",
       "      <td>2-7 Yrs</td>\n",
       "      <td>Delhi / NCR, Chennai, Bangalore/Bengaluru</td>\n",
       "    </tr>\n",
       "    <tr>\n",
       "      <th>4</th>\n",
       "      <td>Data Scientist For Healthcare Product team</td>\n",
       "      <td>8KMiles Software Services</td>\n",
       "      <td>2-7 Yrs</td>\n",
       "      <td>Delhi / NCR, Chennai, Bangalore/Bengaluru</td>\n",
       "    </tr>\n",
       "    <tr>\n",
       "      <th>5</th>\n",
       "      <td>Data Scientist - Machine learning AI</td>\n",
       "      <td>Teq Analytics</td>\n",
       "      <td>3-8 Yrs</td>\n",
       "      <td>Delhi / NCR, Bangalore/Bengaluru, Mumbai (All ...</td>\n",
       "    </tr>\n",
       "    <tr>\n",
       "      <th>6</th>\n",
       "      <td>Data Scientist - MIND Infotech</td>\n",
       "      <td>MOTHERSONSUMI INFOTECH &amp; DESIGNS LIMITED</td>\n",
       "      <td>4-8 Yrs</td>\n",
       "      <td>Noida</td>\n",
       "    </tr>\n",
       "    <tr>\n",
       "      <th>7</th>\n",
       "      <td>Data Scientist - Engine Algorithm</td>\n",
       "      <td>Primo Hiring</td>\n",
       "      <td>1-3 Yrs</td>\n",
       "      <td>Delhi / NCR, Kolkata, Mumbai, Hyderabad/Secund...</td>\n",
       "    </tr>\n",
       "    <tr>\n",
       "      <th>8</th>\n",
       "      <td>Knowledge/Data Scientist</td>\n",
       "      <td>BOLD Technology Systems</td>\n",
       "      <td>3-6 Yrs</td>\n",
       "      <td>Delhi / NCR</td>\n",
       "    </tr>\n",
       "    <tr>\n",
       "      <th>9</th>\n",
       "      <td>Data Scientist</td>\n",
       "      <td>Mount Talent Consulting Private Limited</td>\n",
       "      <td>2-4 Yrs</td>\n",
       "      <td>Delhi / NCR, Pune, Bangalore/Bengaluru</td>\n",
       "    </tr>\n",
       "  </tbody>\n",
       "</table>\n",
       "</div>"
      ],
      "text/plain": [
       "                                        title  \\\n",
       "0             DigitalBCG GAMMA Data Scientist   \n",
       "1             Senior Associate - Data Science   \n",
       "2            Data Scientist - Noida/Bangalore   \n",
       "3  Data Scientist For Healthcare Product team   \n",
       "4  Data Scientist For Healthcare Product team   \n",
       "5        Data Scientist - Machine learning AI   \n",
       "6              Data Scientist - MIND Infotech   \n",
       "7           Data Scientist - Engine Algorithm   \n",
       "8                    Knowledge/Data Scientist   \n",
       "9                              Data Scientist   \n",
       "\n",
       "                                    company experience_required  \\\n",
       "0                   Boston Consulting Group             2-5 Yrs   \n",
       "1                              Black Turtle             4-7 Yrs   \n",
       "2                                       EXL            5-10 Yrs   \n",
       "3                 8KMiles Software Services             2-7 Yrs   \n",
       "4                 8KMiles Software Services             2-7 Yrs   \n",
       "5                             Teq Analytics             3-8 Yrs   \n",
       "6  MOTHERSONSUMI INFOTECH & DESIGNS LIMITED             4-8 Yrs   \n",
       "7                              Primo Hiring             1-3 Yrs   \n",
       "8                   BOLD Technology Systems             3-6 Yrs   \n",
       "9   Mount Talent Consulting Private Limited             2-4 Yrs   \n",
       "\n",
       "                                           locations  \n",
       "0                     New Delhi, Bangalore/Bengaluru  \n",
       "1  Mumbai, Hyderabad/Secunderabad, Gurgaon/Gurugr...  \n",
       "2                         Noida, Bangalore/Bengaluru  \n",
       "3          Delhi / NCR, Chennai, Bangalore/Bengaluru  \n",
       "4          Delhi / NCR, Chennai, Bangalore/Bengaluru  \n",
       "5  Delhi / NCR, Bangalore/Bengaluru, Mumbai (All ...  \n",
       "6                                              Noida  \n",
       "7  Delhi / NCR, Kolkata, Mumbai, Hyderabad/Secund...  \n",
       "8                                        Delhi / NCR  \n",
       "9             Delhi / NCR, Pune, Bangalore/Bengaluru  "
      ]
     },
     "execution_count": 44,
     "metadata": {},
     "output_type": "execute_result"
    }
   ],
   "source": [
    "jobs[0:10]"
   ]
  },
  {
   "cell_type": "markdown",
   "id": "41d45252",
   "metadata": {},
   "source": [
    "Q4: Scrape data of first 100 sunglasses listings on flipkart.com. You have to scrape four attributes:\n",
    "1. Brand\n",
    "2. Product Description\n",
    "3. Price\n",
    "The attributes which you have to scrape is ticked marked in the below image."
   ]
  },
  {
   "cell_type": "code",
   "execution_count": 45,
   "id": "2224b853",
   "metadata": {},
   "outputs": [],
   "source": [
    "# Lets first connect to the web driver\n",
    "\n",
    "driver=webdriver.Chrome(r\"C:\\Users\\Visual singh\\Downloads\\chromedriver_win32\\chromedriver.exe\")"
   ]
  },
  {
   "cell_type": "code",
   "execution_count": 46,
   "id": "4c484bee",
   "metadata": {},
   "outputs": [],
   "source": [
    "website='https://www.flipkart.com/'\n",
    "driver.get(website)"
   ]
  },
  {
   "cell_type": "code",
   "execution_count": 47,
   "id": "1140b01e",
   "metadata": {},
   "outputs": [],
   "source": [
    "search_field_sunglasses=driver.find_element_by_class_name(\"_3704LK\")"
   ]
  },
  {
   "cell_type": "code",
   "execution_count": 48,
   "id": "a152820c",
   "metadata": {},
   "outputs": [],
   "source": [
    "# finding element for sunglasses search bar\n",
    "\n",
    "search_field_sunglasses=driver.find_element_by_class_name('_3704LK')\n",
    "search_field_sunglasses.send_keys('sunglasses')"
   ]
  },
  {
   "cell_type": "code",
   "execution_count": 50,
   "id": "2e9cb4bd",
   "metadata": {},
   "outputs": [],
   "source": [
    "search_button=driver.find_element_by_xpath('/html/body/div[1]/div/div[1]/div[1]/div[2]/div[2]/form/div/button')\n",
    "search_button.click()"
   ]
  },
  {
   "cell_type": "code",
   "execution_count": 56,
   "id": "1e3c5d5e",
   "metadata": {},
   "outputs": [],
   "source": [
    "# Creating empty list\n",
    "\n",
    "Brand=[]\n",
    "Product_Description=[]\n",
    "Price=[]\n",
    "Discounts=[]"
   ]
  },
  {
   "cell_type": "raw",
   "id": "785f4b95",
   "metadata": {},
   "source": [
    "Extracting Brand"
   ]
  },
  {
   "cell_type": "code",
   "execution_count": 78,
   "id": "365b1d90",
   "metadata": {},
   "outputs": [
    {
     "data": {
      "text/plain": [
       "40"
      ]
     },
     "execution_count": 78,
     "metadata": {},
     "output_type": "execute_result"
    }
   ],
   "source": [
    "# extracting discount\n",
    "\n",
    "Brand_tags=driver.find_elements_by_xpath(\"//div[@class='_2WkVRV']\")\n",
    "len(Brand_tags)"
   ]
  },
  {
   "cell_type": "code",
   "execution_count": 79,
   "id": "f8512d87",
   "metadata": {},
   "outputs": [
    {
     "data": {
      "text/plain": [
       "[<selenium.webdriver.remote.webelement.WebElement (session=\"671125c1cc4b96ce9514bba892c0ff6d\", element=\"407cc11a-2305-4f59-9a5a-512fb17b2bc3\")>,\n",
       " <selenium.webdriver.remote.webelement.WebElement (session=\"671125c1cc4b96ce9514bba892c0ff6d\", element=\"14fc7fa0-b398-4c1c-9c8d-8f23bdc6a4b1\")>,\n",
       " <selenium.webdriver.remote.webelement.WebElement (session=\"671125c1cc4b96ce9514bba892c0ff6d\", element=\"c5c493df-1497-4f7d-9832-5297c2dcf929\")>,\n",
       " <selenium.webdriver.remote.webelement.WebElement (session=\"671125c1cc4b96ce9514bba892c0ff6d\", element=\"055ad1fa-e36f-46ab-9363-e6096197c821\")>,\n",
       " <selenium.webdriver.remote.webelement.WebElement (session=\"671125c1cc4b96ce9514bba892c0ff6d\", element=\"411212ac-ca6b-44ad-b78b-4e5eccf93561\")>,\n",
       " <selenium.webdriver.remote.webelement.WebElement (session=\"671125c1cc4b96ce9514bba892c0ff6d\", element=\"67e7ee0f-c9e8-4c52-afe5-785786f6ebf7\")>,\n",
       " <selenium.webdriver.remote.webelement.WebElement (session=\"671125c1cc4b96ce9514bba892c0ff6d\", element=\"48b05ab4-a8e6-4e46-a1cc-b0ddc522e841\")>,\n",
       " <selenium.webdriver.remote.webelement.WebElement (session=\"671125c1cc4b96ce9514bba892c0ff6d\", element=\"e6e8728d-1ffe-433a-bd5b-5c19e4752c99\")>,\n",
       " <selenium.webdriver.remote.webelement.WebElement (session=\"671125c1cc4b96ce9514bba892c0ff6d\", element=\"1ac46e2c-0932-4f66-afeb-53c18a6e0bec\")>,\n",
       " <selenium.webdriver.remote.webelement.WebElement (session=\"671125c1cc4b96ce9514bba892c0ff6d\", element=\"4883f3f3-2209-476e-8ef0-0d3194a6374c\")>,\n",
       " <selenium.webdriver.remote.webelement.WebElement (session=\"671125c1cc4b96ce9514bba892c0ff6d\", element=\"5a4d6f37-294a-4816-b31c-ce0f06b985d0\")>,\n",
       " <selenium.webdriver.remote.webelement.WebElement (session=\"671125c1cc4b96ce9514bba892c0ff6d\", element=\"b7b81ea3-3549-49a4-9cda-59d3404c4aad\")>,\n",
       " <selenium.webdriver.remote.webelement.WebElement (session=\"671125c1cc4b96ce9514bba892c0ff6d\", element=\"f79ad1c6-8601-439f-94af-18b1626f7390\")>,\n",
       " <selenium.webdriver.remote.webelement.WebElement (session=\"671125c1cc4b96ce9514bba892c0ff6d\", element=\"b2fc6e33-01d1-4097-a75e-72a3e4fc9eb9\")>,\n",
       " <selenium.webdriver.remote.webelement.WebElement (session=\"671125c1cc4b96ce9514bba892c0ff6d\", element=\"36d707b0-7cfd-42f3-928c-36bf40e4f0f0\")>,\n",
       " <selenium.webdriver.remote.webelement.WebElement (session=\"671125c1cc4b96ce9514bba892c0ff6d\", element=\"d4b7301c-e3df-4361-bef2-6d27a0531b04\")>,\n",
       " <selenium.webdriver.remote.webelement.WebElement (session=\"671125c1cc4b96ce9514bba892c0ff6d\", element=\"78cf1c8e-c57e-46b7-9f14-9bbadbb2e386\")>,\n",
       " <selenium.webdriver.remote.webelement.WebElement (session=\"671125c1cc4b96ce9514bba892c0ff6d\", element=\"319a081b-ab5f-4973-b2a6-caee96541fd5\")>,\n",
       " <selenium.webdriver.remote.webelement.WebElement (session=\"671125c1cc4b96ce9514bba892c0ff6d\", element=\"34bc5cb9-098d-491c-a229-762b0d8662e2\")>,\n",
       " <selenium.webdriver.remote.webelement.WebElement (session=\"671125c1cc4b96ce9514bba892c0ff6d\", element=\"ce35c492-f872-44f8-a7f3-3c56c6a38517\")>,\n",
       " <selenium.webdriver.remote.webelement.WebElement (session=\"671125c1cc4b96ce9514bba892c0ff6d\", element=\"2b2c3e16-9e3f-48ed-a3e6-11ef8d82a242\")>,\n",
       " <selenium.webdriver.remote.webelement.WebElement (session=\"671125c1cc4b96ce9514bba892c0ff6d\", element=\"5d3507bf-10f9-46d3-9283-d934cd9376ae\")>,\n",
       " <selenium.webdriver.remote.webelement.WebElement (session=\"671125c1cc4b96ce9514bba892c0ff6d\", element=\"2f97f030-bcf8-41c2-8d1d-b8068d2d5178\")>,\n",
       " <selenium.webdriver.remote.webelement.WebElement (session=\"671125c1cc4b96ce9514bba892c0ff6d\", element=\"a3f90257-5c65-4558-886f-2bbd48e063a7\")>,\n",
       " <selenium.webdriver.remote.webelement.WebElement (session=\"671125c1cc4b96ce9514bba892c0ff6d\", element=\"63d909ba-78f3-46ec-a90b-0165160d0763\")>,\n",
       " <selenium.webdriver.remote.webelement.WebElement (session=\"671125c1cc4b96ce9514bba892c0ff6d\", element=\"a486833a-309b-4b51-86fa-8d39a6c506ea\")>,\n",
       " <selenium.webdriver.remote.webelement.WebElement (session=\"671125c1cc4b96ce9514bba892c0ff6d\", element=\"44a531c7-61f3-47a7-89a4-19a761cebd6d\")>,\n",
       " <selenium.webdriver.remote.webelement.WebElement (session=\"671125c1cc4b96ce9514bba892c0ff6d\", element=\"464e6f72-3c8b-4096-a8f8-26263c49054c\")>,\n",
       " <selenium.webdriver.remote.webelement.WebElement (session=\"671125c1cc4b96ce9514bba892c0ff6d\", element=\"242245df-67d7-4213-a263-6e41c3cee600\")>,\n",
       " <selenium.webdriver.remote.webelement.WebElement (session=\"671125c1cc4b96ce9514bba892c0ff6d\", element=\"03c34cdf-d3c1-466c-a6f2-51bab0a0fb85\")>,\n",
       " <selenium.webdriver.remote.webelement.WebElement (session=\"671125c1cc4b96ce9514bba892c0ff6d\", element=\"1f39965c-898a-4f09-b195-929a2ed86071\")>,\n",
       " <selenium.webdriver.remote.webelement.WebElement (session=\"671125c1cc4b96ce9514bba892c0ff6d\", element=\"682c8c40-056e-408c-af26-41c307c9bbfd\")>,\n",
       " <selenium.webdriver.remote.webelement.WebElement (session=\"671125c1cc4b96ce9514bba892c0ff6d\", element=\"c707876b-98bd-4360-8cc7-9dbf588db22e\")>,\n",
       " <selenium.webdriver.remote.webelement.WebElement (session=\"671125c1cc4b96ce9514bba892c0ff6d\", element=\"951eacfd-d5cb-4ab2-ac79-f30f2eb0bd2e\")>,\n",
       " <selenium.webdriver.remote.webelement.WebElement (session=\"671125c1cc4b96ce9514bba892c0ff6d\", element=\"7082e199-51f3-4269-a6fc-52b0abdf5ad1\")>,\n",
       " <selenium.webdriver.remote.webelement.WebElement (session=\"671125c1cc4b96ce9514bba892c0ff6d\", element=\"d114d907-79e5-46b4-bf9f-f74c8a8dfabf\")>,\n",
       " <selenium.webdriver.remote.webelement.WebElement (session=\"671125c1cc4b96ce9514bba892c0ff6d\", element=\"b28e993d-d461-4521-9022-0e292d73c2b4\")>,\n",
       " <selenium.webdriver.remote.webelement.WebElement (session=\"671125c1cc4b96ce9514bba892c0ff6d\", element=\"82e742a6-cbc6-4052-92b7-e659901fc669\")>,\n",
       " <selenium.webdriver.remote.webelement.WebElement (session=\"671125c1cc4b96ce9514bba892c0ff6d\", element=\"fbcb8477-be38-44f3-ba54-e136f5c92eac\")>,\n",
       " <selenium.webdriver.remote.webelement.WebElement (session=\"671125c1cc4b96ce9514bba892c0ff6d\", element=\"f35fa9ac-cfb5-4a72-b32e-a847f75c69a5\")>]"
      ]
     },
     "execution_count": 79,
     "metadata": {},
     "output_type": "execute_result"
    }
   ],
   "source": [
    "Brand_tags[0:100]"
   ]
  },
  {
   "cell_type": "code",
   "execution_count": 82,
   "id": "4a5fd2e2",
   "metadata": {},
   "outputs": [
    {
     "ename": "AttributeError",
     "evalue": "'str' object has no attribute 'myList'",
     "output_type": "error",
     "traceback": [
      "\u001b[1;31m---------------------------------------------------------------------------\u001b[0m",
      "\u001b[1;31mAttributeError\u001b[0m                            Traceback (most recent call last)",
      "\u001b[1;32m<ipython-input-82-69d40c9d299d>\u001b[0m in \u001b[0;36m<module>\u001b[1;34m\u001b[0m\n\u001b[0;32m      3\u001b[0m \u001b[1;32mfor\u001b[0m \u001b[0mi\u001b[0m \u001b[1;32min\u001b[0m \u001b[0mBrand_tags\u001b[0m\u001b[1;33m:\u001b[0m\u001b[1;33m\u001b[0m\u001b[1;33m\u001b[0m\u001b[0m\n\u001b[0;32m      4\u001b[0m     \u001b[0mBrands\u001b[0m\u001b[1;33m=\u001b[0m\u001b[0mi\u001b[0m\u001b[1;33m.\u001b[0m\u001b[0mtext\u001b[0m\u001b[1;33m\u001b[0m\u001b[1;33m\u001b[0m\u001b[0m\n\u001b[1;32m----> 5\u001b[1;33m     \u001b[0mBrand\u001b[0m\u001b[1;33m.\u001b[0m\u001b[0mmyList\u001b[0m\u001b[1;33m(\u001b[0m\u001b[0mBrands\u001b[0m\u001b[1;33m)\u001b[0m\u001b[1;33m\u001b[0m\u001b[1;33m\u001b[0m\u001b[0m\n\u001b[0m\u001b[0;32m      6\u001b[0m \u001b[1;33m\u001b[0m\u001b[0m\n\u001b[0;32m      7\u001b[0m \u001b[0mBrand\u001b[0m\u001b[1;33m[\u001b[0m\u001b[1;36m0\u001b[0m\u001b[1;33m:\u001b[0m\u001b[1;36m100\u001b[0m\u001b[1;33m]\u001b[0m\u001b[1;33m\u001b[0m\u001b[1;33m\u001b[0m\u001b[0m\n",
      "\u001b[1;31mAttributeError\u001b[0m: 'str' object has no attribute 'myList'"
     ]
    }
   ],
   "source": [
    "# extracting all the job titles\n",
    "\n",
    "for i in Brand_tags:\n",
    "    Brands=i.text\n",
    "    Brand.append(Brands)  \n",
    "\n",
    "Brand[0:100]"
   ]
  },
  {
   "cell_type": "raw",
   "id": "7da79bf3",
   "metadata": {},
   "source": [
    "Extracting Price"
   ]
  },
  {
   "cell_type": "code",
   "execution_count": 75,
   "id": "fc02d3d4",
   "metadata": {},
   "outputs": [
    {
     "data": {
      "text/plain": [
       "40"
      ]
     },
     "execution_count": 75,
     "metadata": {},
     "output_type": "execute_result"
    }
   ],
   "source": [
    "# extracting Price\n",
    "\n",
    "Price_tags=driver.find_elements_by_xpath(\"//div[@class='_3I9_wc']\")\n",
    "len(Price_tags)"
   ]
  },
  {
   "cell_type": "code",
   "execution_count": 76,
   "id": "3dad26b9",
   "metadata": {},
   "outputs": [
    {
     "data": {
      "text/plain": [
       "[<selenium.webdriver.remote.webelement.WebElement (session=\"671125c1cc4b96ce9514bba892c0ff6d\", element=\"4ed08729-060b-4bcf-a80e-60d74cbe75db\")>,\n",
       " <selenium.webdriver.remote.webelement.WebElement (session=\"671125c1cc4b96ce9514bba892c0ff6d\", element=\"6ae0737a-9ce3-4fce-8096-e146a438f211\")>,\n",
       " <selenium.webdriver.remote.webelement.WebElement (session=\"671125c1cc4b96ce9514bba892c0ff6d\", element=\"8b2a5f62-543f-4542-995e-892c76e49139\")>,\n",
       " <selenium.webdriver.remote.webelement.WebElement (session=\"671125c1cc4b96ce9514bba892c0ff6d\", element=\"d82e6525-1314-4c0b-b6a1-babda7a56e49\")>,\n",
       " <selenium.webdriver.remote.webelement.WebElement (session=\"671125c1cc4b96ce9514bba892c0ff6d\", element=\"c7c5abfe-1855-4465-b6ee-675e1cad5619\")>,\n",
       " <selenium.webdriver.remote.webelement.WebElement (session=\"671125c1cc4b96ce9514bba892c0ff6d\", element=\"b106affc-79f3-4cc1-8fd0-0e97657935ed\")>,\n",
       " <selenium.webdriver.remote.webelement.WebElement (session=\"671125c1cc4b96ce9514bba892c0ff6d\", element=\"d3d1e3d1-bd52-4fa9-ae0c-da12ba231197\")>,\n",
       " <selenium.webdriver.remote.webelement.WebElement (session=\"671125c1cc4b96ce9514bba892c0ff6d\", element=\"87c62971-2598-42b4-ad60-6ae2c8e2f2a9\")>,\n",
       " <selenium.webdriver.remote.webelement.WebElement (session=\"671125c1cc4b96ce9514bba892c0ff6d\", element=\"c3df3fea-b999-4246-9e59-2599cc18e00c\")>,\n",
       " <selenium.webdriver.remote.webelement.WebElement (session=\"671125c1cc4b96ce9514bba892c0ff6d\", element=\"033a0d84-7c66-4b6b-8459-8d046ce0db92\")>,\n",
       " <selenium.webdriver.remote.webelement.WebElement (session=\"671125c1cc4b96ce9514bba892c0ff6d\", element=\"fd774a19-be44-4a2d-8a9b-f2f9085ca65f\")>,\n",
       " <selenium.webdriver.remote.webelement.WebElement (session=\"671125c1cc4b96ce9514bba892c0ff6d\", element=\"fa78e9a5-0018-44e8-9d28-b2568803123e\")>,\n",
       " <selenium.webdriver.remote.webelement.WebElement (session=\"671125c1cc4b96ce9514bba892c0ff6d\", element=\"f63bb0c0-4118-4dbb-a5ad-d9eba8261183\")>,\n",
       " <selenium.webdriver.remote.webelement.WebElement (session=\"671125c1cc4b96ce9514bba892c0ff6d\", element=\"f9561656-41d3-41c8-9a39-16ec8401b68d\")>,\n",
       " <selenium.webdriver.remote.webelement.WebElement (session=\"671125c1cc4b96ce9514bba892c0ff6d\", element=\"a9484f14-1680-4940-84eb-bfb85738fffb\")>,\n",
       " <selenium.webdriver.remote.webelement.WebElement (session=\"671125c1cc4b96ce9514bba892c0ff6d\", element=\"902a5d62-31c0-4bb8-b9d7-13046b8160d8\")>,\n",
       " <selenium.webdriver.remote.webelement.WebElement (session=\"671125c1cc4b96ce9514bba892c0ff6d\", element=\"8af98537-5da9-4343-aacd-59de3da0b64d\")>,\n",
       " <selenium.webdriver.remote.webelement.WebElement (session=\"671125c1cc4b96ce9514bba892c0ff6d\", element=\"2b25c256-7038-4b54-98e2-94d2becbd68b\")>,\n",
       " <selenium.webdriver.remote.webelement.WebElement (session=\"671125c1cc4b96ce9514bba892c0ff6d\", element=\"c97aa48f-9723-4952-8d6c-a6b6dafe2163\")>,\n",
       " <selenium.webdriver.remote.webelement.WebElement (session=\"671125c1cc4b96ce9514bba892c0ff6d\", element=\"ce03acbc-7ad3-42a5-a5a2-5c344e614b52\")>,\n",
       " <selenium.webdriver.remote.webelement.WebElement (session=\"671125c1cc4b96ce9514bba892c0ff6d\", element=\"6d9d14dd-5af7-4f34-9f6b-08e013e0dda7\")>,\n",
       " <selenium.webdriver.remote.webelement.WebElement (session=\"671125c1cc4b96ce9514bba892c0ff6d\", element=\"6a7c70ba-aa6a-4113-91fa-a248153c3d17\")>,\n",
       " <selenium.webdriver.remote.webelement.WebElement (session=\"671125c1cc4b96ce9514bba892c0ff6d\", element=\"578d127e-a7e0-4a79-9e3d-539ef0076c78\")>,\n",
       " <selenium.webdriver.remote.webelement.WebElement (session=\"671125c1cc4b96ce9514bba892c0ff6d\", element=\"f015142b-1666-4b77-929a-03d1d0502223\")>,\n",
       " <selenium.webdriver.remote.webelement.WebElement (session=\"671125c1cc4b96ce9514bba892c0ff6d\", element=\"f4e45621-d0fa-4a84-b5d3-e193caf2f0cd\")>,\n",
       " <selenium.webdriver.remote.webelement.WebElement (session=\"671125c1cc4b96ce9514bba892c0ff6d\", element=\"05373bd1-0da1-4715-8577-24517fdea954\")>,\n",
       " <selenium.webdriver.remote.webelement.WebElement (session=\"671125c1cc4b96ce9514bba892c0ff6d\", element=\"5d856f4a-e371-44b2-9fd1-43eae2b56099\")>,\n",
       " <selenium.webdriver.remote.webelement.WebElement (session=\"671125c1cc4b96ce9514bba892c0ff6d\", element=\"93228d7c-9413-4632-adee-755e9eeeb571\")>,\n",
       " <selenium.webdriver.remote.webelement.WebElement (session=\"671125c1cc4b96ce9514bba892c0ff6d\", element=\"0d8d5cc8-78c9-4765-94bf-5f5846a8b021\")>,\n",
       " <selenium.webdriver.remote.webelement.WebElement (session=\"671125c1cc4b96ce9514bba892c0ff6d\", element=\"ab0ec8d1-60f8-4895-95ce-024d7ad19efb\")>,\n",
       " <selenium.webdriver.remote.webelement.WebElement (session=\"671125c1cc4b96ce9514bba892c0ff6d\", element=\"fad2a1d4-caa2-497c-830f-8e072a0f050c\")>,\n",
       " <selenium.webdriver.remote.webelement.WebElement (session=\"671125c1cc4b96ce9514bba892c0ff6d\", element=\"212f94f1-605c-44ea-ad0b-1919556a4fc2\")>,\n",
       " <selenium.webdriver.remote.webelement.WebElement (session=\"671125c1cc4b96ce9514bba892c0ff6d\", element=\"91783eb7-d7b2-443a-aabc-0f6f32150497\")>,\n",
       " <selenium.webdriver.remote.webelement.WebElement (session=\"671125c1cc4b96ce9514bba892c0ff6d\", element=\"271585a7-d212-409b-aa0c-11496efcc13b\")>,\n",
       " <selenium.webdriver.remote.webelement.WebElement (session=\"671125c1cc4b96ce9514bba892c0ff6d\", element=\"495b1ccf-411b-4192-b05e-c37b751a0266\")>,\n",
       " <selenium.webdriver.remote.webelement.WebElement (session=\"671125c1cc4b96ce9514bba892c0ff6d\", element=\"e9569bca-4a0e-4467-8709-3897a0c040fb\")>,\n",
       " <selenium.webdriver.remote.webelement.WebElement (session=\"671125c1cc4b96ce9514bba892c0ff6d\", element=\"470b1880-df77-4702-84e7-272ce6c7a37c\")>,\n",
       " <selenium.webdriver.remote.webelement.WebElement (session=\"671125c1cc4b96ce9514bba892c0ff6d\", element=\"fa5fe64f-ea97-479c-b733-63343b683c70\")>,\n",
       " <selenium.webdriver.remote.webelement.WebElement (session=\"671125c1cc4b96ce9514bba892c0ff6d\", element=\"631e3e8c-f122-4d72-ad45-4ea75e83d0a8\")>,\n",
       " <selenium.webdriver.remote.webelement.WebElement (session=\"671125c1cc4b96ce9514bba892c0ff6d\", element=\"9daef0ad-be57-4bcc-a6bf-2cebd3a2674f\")>]"
      ]
     },
     "execution_count": 76,
     "metadata": {},
     "output_type": "execute_result"
    }
   ],
   "source": [
    "Price_tags[0:100]"
   ]
  },
  {
   "cell_type": "code",
   "execution_count": 77,
   "id": "af28ac70",
   "metadata": {},
   "outputs": [
    {
     "data": {
      "text/plain": [
       "['₹999',\n",
       " '₹2,599',\n",
       " '₹799',\n",
       " '₹2,495',\n",
       " '₹1,299',\n",
       " '₹1,599',\n",
       " '₹1,299',\n",
       " '₹1,299',\n",
       " '₹1,699',\n",
       " '₹999',\n",
       " '₹799',\n",
       " '₹1,599',\n",
       " '₹2,599',\n",
       " '₹2,599',\n",
       " '₹2,499',\n",
       " '₹1,999',\n",
       " '₹1,599',\n",
       " '₹1,599',\n",
       " '₹899',\n",
       " '₹2,599',\n",
       " '₹1,499',\n",
       " '₹1,999',\n",
       " '₹1,299',\n",
       " '₹1,299',\n",
       " '₹1,199',\n",
       " '₹899',\n",
       " '₹1,245',\n",
       " '₹899',\n",
       " '₹1,299',\n",
       " '₹1,499',\n",
       " '₹1,299',\n",
       " '₹1,499',\n",
       " '₹1,599',\n",
       " '₹1,299',\n",
       " '₹2,099',\n",
       " '₹999',\n",
       " '₹1,599',\n",
       " '₹999',\n",
       " '₹899',\n",
       " '₹999']"
      ]
     },
     "execution_count": 77,
     "metadata": {},
     "output_type": "execute_result"
    }
   ],
   "source": [
    "# extracting all the job titles\n",
    "\n",
    "for i in Price_tags:\n",
    "    Prices=i.text\n",
    "    Price.append(Prices)  \n",
    "\n",
    "Price[0:100]"
   ]
  },
  {
   "cell_type": "raw",
   "id": "cbe9acd5",
   "metadata": {},
   "source": [
    "Extracting Discounts"
   ]
  },
  {
   "cell_type": "code",
   "execution_count": 69,
   "id": "373761e8",
   "metadata": {},
   "outputs": [
    {
     "data": {
      "text/plain": [
       "40"
      ]
     },
     "execution_count": 69,
     "metadata": {},
     "output_type": "execute_result"
    }
   ],
   "source": [
    "# extracting discount\n",
    "\n",
    "discount_tags=driver.find_elements_by_xpath(\"//div[@class='_3Ay6Sb']\")\n",
    "len(discount_tags)"
   ]
  },
  {
   "cell_type": "code",
   "execution_count": 70,
   "id": "711d5e82",
   "metadata": {},
   "outputs": [
    {
     "data": {
      "text/plain": [
       "[<selenium.webdriver.remote.webelement.WebElement (session=\"671125c1cc4b96ce9514bba892c0ff6d\", element=\"5b598715-3faf-4645-adbf-509bf6411ee1\")>,\n",
       " <selenium.webdriver.remote.webelement.WebElement (session=\"671125c1cc4b96ce9514bba892c0ff6d\", element=\"217be0d7-1ea0-43c3-b76a-efdb0eb3653b\")>,\n",
       " <selenium.webdriver.remote.webelement.WebElement (session=\"671125c1cc4b96ce9514bba892c0ff6d\", element=\"b8e253a3-570d-4f6a-9681-5c96e9d3bd54\")>,\n",
       " <selenium.webdriver.remote.webelement.WebElement (session=\"671125c1cc4b96ce9514bba892c0ff6d\", element=\"8a6111d3-ca13-4695-8a25-75f68b31de4d\")>,\n",
       " <selenium.webdriver.remote.webelement.WebElement (session=\"671125c1cc4b96ce9514bba892c0ff6d\", element=\"842373eb-5df1-4947-87b4-c0552beee195\")>,\n",
       " <selenium.webdriver.remote.webelement.WebElement (session=\"671125c1cc4b96ce9514bba892c0ff6d\", element=\"9d639bc0-1550-43a8-aca5-87b98a2cbc0b\")>,\n",
       " <selenium.webdriver.remote.webelement.WebElement (session=\"671125c1cc4b96ce9514bba892c0ff6d\", element=\"d362fcf7-0ee8-4e55-a9b9-f1bba378bb98\")>,\n",
       " <selenium.webdriver.remote.webelement.WebElement (session=\"671125c1cc4b96ce9514bba892c0ff6d\", element=\"221a9f9d-2ed4-43d8-8a81-e80c6ca4abe2\")>,\n",
       " <selenium.webdriver.remote.webelement.WebElement (session=\"671125c1cc4b96ce9514bba892c0ff6d\", element=\"1cbd138b-a0d0-4159-876e-a8f6e76944d1\")>,\n",
       " <selenium.webdriver.remote.webelement.WebElement (session=\"671125c1cc4b96ce9514bba892c0ff6d\", element=\"5abec7e8-f29c-4bed-8fa4-3592240a38fe\")>,\n",
       " <selenium.webdriver.remote.webelement.WebElement (session=\"671125c1cc4b96ce9514bba892c0ff6d\", element=\"8d26afe0-40f2-43aa-9d57-8788672d14a8\")>,\n",
       " <selenium.webdriver.remote.webelement.WebElement (session=\"671125c1cc4b96ce9514bba892c0ff6d\", element=\"141ee9ca-52bf-4d3d-b0da-f3e710b5ad81\")>,\n",
       " <selenium.webdriver.remote.webelement.WebElement (session=\"671125c1cc4b96ce9514bba892c0ff6d\", element=\"1077806d-83d9-4f89-81de-7b5eec95e622\")>,\n",
       " <selenium.webdriver.remote.webelement.WebElement (session=\"671125c1cc4b96ce9514bba892c0ff6d\", element=\"d46c7be6-b663-4fde-826d-1e50c64df0fe\")>,\n",
       " <selenium.webdriver.remote.webelement.WebElement (session=\"671125c1cc4b96ce9514bba892c0ff6d\", element=\"a09351ca-c21b-4467-b453-c49e149ec6f5\")>,\n",
       " <selenium.webdriver.remote.webelement.WebElement (session=\"671125c1cc4b96ce9514bba892c0ff6d\", element=\"f31df333-8747-43a1-b71d-6939df817d2f\")>,\n",
       " <selenium.webdriver.remote.webelement.WebElement (session=\"671125c1cc4b96ce9514bba892c0ff6d\", element=\"ff2d25a7-ea7b-4b5f-96a3-a4ff527d6af2\")>,\n",
       " <selenium.webdriver.remote.webelement.WebElement (session=\"671125c1cc4b96ce9514bba892c0ff6d\", element=\"43f06e6f-d89b-494a-8f2a-f84137321157\")>,\n",
       " <selenium.webdriver.remote.webelement.WebElement (session=\"671125c1cc4b96ce9514bba892c0ff6d\", element=\"265f4f24-32c6-409a-a26e-76ca5d07efa1\")>,\n",
       " <selenium.webdriver.remote.webelement.WebElement (session=\"671125c1cc4b96ce9514bba892c0ff6d\", element=\"3ee9c195-eb47-468d-b336-9a2029f699d8\")>,\n",
       " <selenium.webdriver.remote.webelement.WebElement (session=\"671125c1cc4b96ce9514bba892c0ff6d\", element=\"5a18542e-ce1f-4b55-9ea3-95ac4282284d\")>,\n",
       " <selenium.webdriver.remote.webelement.WebElement (session=\"671125c1cc4b96ce9514bba892c0ff6d\", element=\"05492626-1de4-466a-a1a8-182bbd04071b\")>,\n",
       " <selenium.webdriver.remote.webelement.WebElement (session=\"671125c1cc4b96ce9514bba892c0ff6d\", element=\"75b2ce50-a1cb-4a2d-b08b-4ed5d6a7e0db\")>,\n",
       " <selenium.webdriver.remote.webelement.WebElement (session=\"671125c1cc4b96ce9514bba892c0ff6d\", element=\"ed842af1-77d3-4d21-a071-2851066a1084\")>,\n",
       " <selenium.webdriver.remote.webelement.WebElement (session=\"671125c1cc4b96ce9514bba892c0ff6d\", element=\"6a22b678-1105-472d-aa05-2c005d853b1b\")>,\n",
       " <selenium.webdriver.remote.webelement.WebElement (session=\"671125c1cc4b96ce9514bba892c0ff6d\", element=\"c086974f-0bbc-4433-987d-c83c30de4231\")>,\n",
       " <selenium.webdriver.remote.webelement.WebElement (session=\"671125c1cc4b96ce9514bba892c0ff6d\", element=\"e8f2d4a1-0ce4-4b4b-abe5-5dc01f9fb087\")>,\n",
       " <selenium.webdriver.remote.webelement.WebElement (session=\"671125c1cc4b96ce9514bba892c0ff6d\", element=\"b84323a5-da9d-4631-8b59-a220049aca42\")>,\n",
       " <selenium.webdriver.remote.webelement.WebElement (session=\"671125c1cc4b96ce9514bba892c0ff6d\", element=\"7fbbaa60-07b5-4d9f-b01e-dd68fba99d48\")>,\n",
       " <selenium.webdriver.remote.webelement.WebElement (session=\"671125c1cc4b96ce9514bba892c0ff6d\", element=\"8490125c-9732-49b4-9bb6-7aad0db07649\")>,\n",
       " <selenium.webdriver.remote.webelement.WebElement (session=\"671125c1cc4b96ce9514bba892c0ff6d\", element=\"c4d1083c-3618-48c6-b7e1-0b79b2042572\")>,\n",
       " <selenium.webdriver.remote.webelement.WebElement (session=\"671125c1cc4b96ce9514bba892c0ff6d\", element=\"4a123d6b-1b86-422d-821e-36ff16b46fe7\")>,\n",
       " <selenium.webdriver.remote.webelement.WebElement (session=\"671125c1cc4b96ce9514bba892c0ff6d\", element=\"2af4e344-be97-4551-9e68-2cdbe745d26b\")>,\n",
       " <selenium.webdriver.remote.webelement.WebElement (session=\"671125c1cc4b96ce9514bba892c0ff6d\", element=\"4faedf01-8402-46a4-8d3b-6f99529cb0ab\")>,\n",
       " <selenium.webdriver.remote.webelement.WebElement (session=\"671125c1cc4b96ce9514bba892c0ff6d\", element=\"0a5aadd5-55da-4beb-9e13-d825007c5c8b\")>,\n",
       " <selenium.webdriver.remote.webelement.WebElement (session=\"671125c1cc4b96ce9514bba892c0ff6d\", element=\"31037064-14fe-4466-adf0-d7bc797c3097\")>,\n",
       " <selenium.webdriver.remote.webelement.WebElement (session=\"671125c1cc4b96ce9514bba892c0ff6d\", element=\"70fa72c3-656a-4567-a672-a5ba9c682963\")>,\n",
       " <selenium.webdriver.remote.webelement.WebElement (session=\"671125c1cc4b96ce9514bba892c0ff6d\", element=\"ec6058e0-79b5-41e7-a5be-cef1791fee39\")>,\n",
       " <selenium.webdriver.remote.webelement.WebElement (session=\"671125c1cc4b96ce9514bba892c0ff6d\", element=\"477b8d68-280b-4b7d-8b44-92428d34e231\")>,\n",
       " <selenium.webdriver.remote.webelement.WebElement (session=\"671125c1cc4b96ce9514bba892c0ff6d\", element=\"36a991d6-c1e9-4425-a196-84d2b902f77c\")>]"
      ]
     },
     "execution_count": 70,
     "metadata": {},
     "output_type": "execute_result"
    }
   ],
   "source": [
    "discount_tags[0:100]"
   ]
  },
  {
   "cell_type": "code",
   "execution_count": 73,
   "id": "35f88497",
   "metadata": {},
   "outputs": [
    {
     "data": {
      "text/plain": [
       "['82% off',\n",
       " '89% off',\n",
       " '20% off',\n",
       " '87% off',\n",
       " '80% off',\n",
       " '85% off',\n",
       " '82% off',\n",
       " '78% off',\n",
       " '88% off',\n",
       " '20% off',\n",
       " '20% off',\n",
       " '85% off',\n",
       " '86% off',\n",
       " '88% off',\n",
       " '88% off',\n",
       " '76% off',\n",
       " '84% off',\n",
       " '85% off',\n",
       " '20% off',\n",
       " '84% off',\n",
       " '82% off',\n",
       " '83% off',\n",
       " '78% off',\n",
       " '20% off',\n",
       " '86% off',\n",
       " '20% off',\n",
       " '76% off',\n",
       " '15% off',\n",
       " '82% off',\n",
       " '79% off',\n",
       " '20% off',\n",
       " '74% off',\n",
       " '81% off',\n",
       " '85% off',\n",
       " '74% off',\n",
       " '80% off',\n",
       " '84% off',\n",
       " '78% off',\n",
       " '20% off',\n",
       " '80% off']"
      ]
     },
     "execution_count": 73,
     "metadata": {},
     "output_type": "execute_result"
    }
   ],
   "source": [
    "# extracting all the job titles\n",
    "\n",
    "for i in discount_tags:\n",
    "    discount=i.text\n",
    "    Discounts.append(discount)  \n",
    "\n",
    "Discounts[0:100]"
   ]
  },
  {
   "cell_type": "code",
   "execution_count": null,
   "id": "59f9798a",
   "metadata": {},
   "outputs": [],
   "source": []
  },
  {
   "cell_type": "code",
   "execution_count": null,
   "id": "7ee0b21e",
   "metadata": {},
   "outputs": [],
   "source": []
  }
 ],
 "metadata": {
  "kernelspec": {
   "display_name": "Python 3",
   "language": "python",
   "name": "python3"
  },
  "language_info": {
   "codemirror_mode": {
    "name": "ipython",
    "version": 3
   },
   "file_extension": ".py",
   "mimetype": "text/x-python",
   "name": "python",
   "nbconvert_exporter": "python",
   "pygments_lexer": "ipython3",
   "version": "3.8.8"
  }
 },
 "nbformat": 4,
 "nbformat_minor": 5
}
