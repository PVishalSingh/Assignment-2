{
 "cells": [
  {
   "cell_type": "code",
   "execution_count": 1,
   "id": "f5591277",
   "metadata": {},
   "outputs": [
    {
     "name": "stdout",
     "output_type": "stream",
     "text": [
      "Requirement already satisfied: selenium in c:\\users\\visual singh\\anaconda3\\lib\\site-packages (4.1.3)\n",
      "Requirement already satisfied: trio-websocket~=0.9 in c:\\users\\visual singh\\anaconda3\\lib\\site-packages (from selenium) (0.9.2)\n",
      "Requirement already satisfied: trio~=0.17 in c:\\users\\visual singh\\anaconda3\\lib\\site-packages (from selenium) (0.20.0)\n",
      "Requirement already satisfied: urllib3[secure,socks]~=1.26 in c:\\users\\visual singh\\anaconda3\\lib\\site-packages (from selenium) (1.26.4)\n",
      "Requirement already satisfied: attrs>=19.2.0 in c:\\users\\visual singh\\anaconda3\\lib\\site-packages (from trio~=0.17->selenium) (20.3.0)\n",
      "Requirement already satisfied: async-generator>=1.9 in c:\\users\\visual singh\\anaconda3\\lib\\site-packages (from trio~=0.17->selenium) (1.10)\n",
      "Requirement already satisfied: cffi>=1.14 in c:\\users\\visual singh\\anaconda3\\lib\\site-packages (from trio~=0.17->selenium) (1.14.5)\n",
      "Requirement already satisfied: idna in c:\\users\\visual singh\\anaconda3\\lib\\site-packages (from trio~=0.17->selenium) (2.10)\n",
      "Requirement already satisfied: sortedcontainers in c:\\users\\visual singh\\anaconda3\\lib\\site-packages (from trio~=0.17->selenium) (2.3.0)\n",
      "Requirement already satisfied: outcome in c:\\users\\visual singh\\anaconda3\\lib\\site-packages (from trio~=0.17->selenium) (1.1.0)\n",
      "Requirement already satisfied: sniffio in c:\\users\\visual singh\\anaconda3\\lib\\site-packages (from trio~=0.17->selenium) (1.2.0)\n",
      "Requirement already satisfied: pycparser in c:\\users\\visual singh\\anaconda3\\lib\\site-packages (from cffi>=1.14->trio~=0.17->selenium) (2.20)\n",
      "Requirement already satisfied: wsproto>=0.14 in c:\\users\\visual singh\\anaconda3\\lib\\site-packages (from trio-websocket~=0.9->selenium) (1.1.0)\n",
      "Requirement already satisfied: PySocks!=1.5.7,<2.0,>=1.5.6 in c:\\users\\visual singh\\anaconda3\\lib\\site-packages (from urllib3[secure,socks]~=1.26->selenium) (1.7.1)\n",
      "Requirement already satisfied: pyOpenSSL>=0.14 in c:\\users\\visual singh\\anaconda3\\lib\\site-packages (from urllib3[secure,socks]~=1.26->selenium) (20.0.1)\n",
      "Requirement already satisfied: certifi in c:\\users\\visual singh\\anaconda3\\lib\\site-packages (from urllib3[secure,socks]~=1.26->selenium) (2020.12.5)\n",
      "Requirement already satisfied: cryptography>=1.3.4 in c:\\users\\visual singh\\anaconda3\\lib\\site-packages (from urllib3[secure,socks]~=1.26->selenium) (3.4.7)\n",
      "Requirement already satisfied: six>=1.5.2 in c:\\users\\visual singh\\anaconda3\\lib\\site-packages (from pyOpenSSL>=0.14->urllib3[secure,socks]~=1.26->selenium) (1.15.0)\n",
      "Requirement already satisfied: h11<1,>=0.9.0 in c:\\users\\visual singh\\anaconda3\\lib\\site-packages (from wsproto>=0.14->trio-websocket~=0.9->selenium) (0.13.0)\n"
     ]
    }
   ],
   "source": [
    "!pip install selenium"
   ]
  },
  {
   "cell_type": "code",
   "execution_count": 2,
   "id": "c9889be3",
   "metadata": {},
   "outputs": [],
   "source": [
    "# importing libraries \n",
    "import selenium\n",
    "import pandas as pd\n",
    "import time\n",
    "\n",
    "from bs4 import BeautifulSoup\n",
    "from selenium import webdriver\n",
    "# importing exception \n",
    "from selenium.common.exceptions import StaleElementReferenceException,NoSuchElementException\n",
    "\n",
    "#importinf requests\n",
    "import requests\n",
    "\n",
    "#importing regex\n",
    "import re\n",
    "from selenium.webdriver.common.by import By\n",
    "import time "
   ]
  },
  {
   "cell_type": "code",
   "execution_count": 3,
   "id": "4b7321f4",
   "metadata": {},
   "outputs": [
    {
     "name": "stderr",
     "output_type": "stream",
     "text": [
      "<ipython-input-3-a187054f8675>:1: DeprecationWarning: executable_path has been deprecated, please pass in a Service object\n",
      "  driver=webdriver.Chrome(r\"C:\\Users\\Visual singh\\Downloads\\chromedriver_win32\\chromedriver.exe\")\n"
     ]
    }
   ],
   "source": [
    "driver=webdriver.Chrome(r\"C:\\Users\\Visual singh\\Downloads\\chromedriver_win32\\chromedriver.exe\")"
   ]
  },
  {
   "cell_type": "code",
   "execution_count": 4,
   "id": "e96078b1",
   "metadata": {},
   "outputs": [],
   "source": [
    "driver.get('http://www.bcci.tv/')"
   ]
  },
  {
   "cell_type": "code",
   "execution_count": 12,
   "id": "513a1063",
   "metadata": {},
   "outputs": [],
   "source": [
    "Match_title=[]\n",
    "title = driver.find_elements(By.XPATH,'//span[@class=\"matchOrderText ng-binding ng-scope\"]')\n",
    "\n",
    "for i in title:\n",
    "\n",
    "    Match_title.append(i.text.split('-')[0])#//span[@class=\"matchOrderText ng-binding ng-scope\"]\n",
    "    next_button=driver.find_elements(By.XPATH,'//*[@id=\"fixture-slider\"]/button[2]')"
   ]
  },
  {
   "cell_type": "code",
   "execution_count": 13,
   "id": "65917501",
   "metadata": {},
   "outputs": [
    {
     "data": {
      "text/plain": [
       "['1st ODI ',\n",
       " '2nd ODI ',\n",
       " '3rd ODI ',\n",
       " '1st T20I ',\n",
       " '2nd T20I ',\n",
       " '',\n",
       " '',\n",
       " '',\n",
       " '',\n",
       " '',\n",
       " '',\n",
       " '',\n",
       " '',\n",
       " '']"
      ]
     },
     "execution_count": 13,
     "metadata": {},
     "output_type": "execute_result"
    }
   ],
   "source": [
    "Match_title"
   ]
  },
  {
   "cell_type": "code",
   "execution_count": 8,
   "id": "0e3da8a6",
   "metadata": {},
   "outputs": [],
   "source": [
    "Series=[]\n",
    "\n",
    "series = driver.find_elements(By.XPATH,'//span[@class=\"ng-binding\"]')\n",
    "\n",
    "for i in series:\n",
    "\n",
    "    Series.append(i.text)"
   ]
  },
  {
   "cell_type": "code",
   "execution_count": 9,
   "id": "8f9a9005",
   "metadata": {},
   "outputs": [
    {
     "data": {
      "text/plain": [
       "['INDIA TOUR OF ZIMBABWE ODI SERIES 2022',\n",
       " 'INDIA TOUR OF ZIMBABWE ODI SERIES 2022',\n",
       " 'INDIA TOUR OF ZIMBABWE ODI SERIES 2022',\n",
       " 'ASIA CUP 2022',\n",
       " 'ASIA CUP 2022',\n",
       " '',\n",
       " '',\n",
       " '',\n",
       " '',\n",
       " '',\n",
       " '',\n",
       " '',\n",
       " '',\n",
       " '']"
      ]
     },
     "execution_count": 9,
     "metadata": {},
     "output_type": "execute_result"
    }
   ],
   "source": [
    "Series"
   ]
  },
  {
   "cell_type": "code",
   "execution_count": 14,
   "id": "ca2dbb71",
   "metadata": {},
   "outputs": [],
   "source": [
    "Matches=[]\n",
    "\n",
    "matche=driver.find_elements(By.XPATH,'//div[@class=\"match-mid-info d-flex justify-content-between\"]')\n",
    "\n",
    "for i in matche:\n",
    "\n",
    "       Matches.append(i.text.split()[0:8])"
   ]
  },
  {
   "cell_type": "code",
   "execution_count": 15,
   "id": "b63d4c48",
   "metadata": {},
   "outputs": [
    {
     "data": {
      "text/plain": [
       "[['Zimbabwe', 'vs', 'India'],\n",
       " ['Zimbabwe', 'vs', 'India'],\n",
       " ['Zimbabwe', 'vs', 'India'],\n",
       " ['India', 'vs', 'Pakistan'],\n",
       " ['India', 'vs'],\n",
       " [],\n",
       " [],\n",
       " [],\n",
       " [],\n",
       " [],\n",
       " [],\n",
       " [],\n",
       " [],\n",
       " []]"
      ]
     },
     "execution_count": 15,
     "metadata": {},
     "output_type": "execute_result"
    }
   ],
   "source": [
    "Matches"
   ]
  },
  {
   "cell_type": "code",
   "execution_count": 20,
   "id": "db5857b9",
   "metadata": {},
   "outputs": [],
   "source": [
    "Places=[]\n",
    "\n",
    "Place=driver.find_elements(By.XPATH,'//span[@class=\"ng-binding ng-scope\"]')\n",
    "\n",
    "for i in Place:\n",
    "\n",
    "       Places.append(i.text)"
   ]
  },
  {
   "cell_type": "code",
   "execution_count": 21,
   "id": "396faa2d",
   "metadata": {},
   "outputs": [
    {
     "data": {
      "text/plain": [
       "['Harare Sports Club,',\n",
       " 'Harare Sports Club,',\n",
       " 'Harare Sports Club,',\n",
       " 'Dubai International Cricket Stadium,',\n",
       " 'Dubai International Cricket Stadium,',\n",
       " '',\n",
       " '',\n",
       " '',\n",
       " '',\n",
       " '',\n",
       " '',\n",
       " '',\n",
       " '',\n",
       " '']"
      ]
     },
     "execution_count": 21,
     "metadata": {},
     "output_type": "execute_result"
    }
   ],
   "source": [
    "Places"
   ]
  },
  {
   "cell_type": "code",
   "execution_count": 22,
   "id": "1ee69df4",
   "metadata": {},
   "outputs": [],
   "source": [
    "Dates=[]\n",
    "\n",
    "Date=driver.find_elements(By.XPATH,'//h5[@class=\"ng-binding\"]')\n",
    "\n",
    "for i in Date:\n",
    "\n",
    "       Dates.append(i.text)"
   ]
  },
  {
   "cell_type": "code",
   "execution_count": 23,
   "id": "cc5ed16c",
   "metadata": {},
   "outputs": [
    {
     "data": {
      "text/plain": [
       "['18 AUG 2022',\n",
       " '20 AUG 2022',\n",
       " '22 AUG 2022',\n",
       " '28 AUG 2022',\n",
       " '31 AUG 2022',\n",
       " '',\n",
       " '',\n",
       " '',\n",
       " '',\n",
       " '',\n",
       " '',\n",
       " '',\n",
       " '',\n",
       " '']"
      ]
     },
     "execution_count": 23,
     "metadata": {},
     "output_type": "execute_result"
    }
   ],
   "source": [
    "Dates"
   ]
  },
  {
   "cell_type": "code",
   "execution_count": 26,
   "id": "107255cd",
   "metadata": {},
   "outputs": [],
   "source": [
    "Timing=[]\n",
    "\n",
    "Timings=driver.find_elements(By.XPATH,'//h5[@class=\"match-time ng-binding\"]')\n",
    "\n",
    "for i in Timings:\n",
    "\n",
    "       Timing.append(i.text)"
   ]
  },
  {
   "cell_type": "code",
   "execution_count": 27,
   "id": "535e2090",
   "metadata": {},
   "outputs": [
    {
     "data": {
      "text/plain": [
       "['12:45 PM IST',\n",
       " '12:45 PM IST',\n",
       " '12:45 PM IST',\n",
       " '7:30 PM IST',\n",
       " '',\n",
       " '',\n",
       " '',\n",
       " '',\n",
       " '',\n",
       " '',\n",
       " '',\n",
       " '',\n",
       " '',\n",
       " '']"
      ]
     },
     "execution_count": 27,
     "metadata": {},
     "output_type": "execute_result"
    }
   ],
   "source": [
    "Timing"
   ]
  },
  {
   "cell_type": "code",
   "execution_count": 29,
   "id": "a930a6c1",
   "metadata": {},
   "outputs": [
    {
     "name": "stdout",
     "output_type": "stream",
     "text": [
      "14 14 14 14 14 14\n"
     ]
    }
   ],
   "source": [
    "print(len(Match_title),len(Series),len(Matches),len(Places),len(Dates),len(Timing))"
   ]
  },
  {
   "cell_type": "code",
   "execution_count": 31,
   "id": "2b5d684c",
   "metadata": {},
   "outputs": [],
   "source": [
    "India_Tour = pd.DataFrame({\"Match_title\":Match_title,\"Series\":Series,\"Matches\":Matches,\"Places\":Places, \"Dates\":Dates,\"Timing\":Timing})"
   ]
  },
  {
   "cell_type": "code",
   "execution_count": 32,
   "id": "159ac89c",
   "metadata": {},
   "outputs": [
    {
     "data": {
      "text/html": [
       "<div>\n",
       "<style scoped>\n",
       "    .dataframe tbody tr th:only-of-type {\n",
       "        vertical-align: middle;\n",
       "    }\n",
       "\n",
       "    .dataframe tbody tr th {\n",
       "        vertical-align: top;\n",
       "    }\n",
       "\n",
       "    .dataframe thead th {\n",
       "        text-align: right;\n",
       "    }\n",
       "</style>\n",
       "<table border=\"1\" class=\"dataframe\">\n",
       "  <thead>\n",
       "    <tr style=\"text-align: right;\">\n",
       "      <th></th>\n",
       "      <th>Match_title</th>\n",
       "      <th>Series</th>\n",
       "      <th>Matches</th>\n",
       "      <th>Places</th>\n",
       "      <th>Dates</th>\n",
       "      <th>Timing</th>\n",
       "    </tr>\n",
       "  </thead>\n",
       "  <tbody>\n",
       "    <tr>\n",
       "      <th>0</th>\n",
       "      <td>1st ODI</td>\n",
       "      <td>INDIA TOUR OF ZIMBABWE ODI SERIES 2022</td>\n",
       "      <td>[Zimbabwe, vs, India]</td>\n",
       "      <td>Harare Sports Club,</td>\n",
       "      <td>18 AUG 2022</td>\n",
       "      <td>12:45 PM IST</td>\n",
       "    </tr>\n",
       "    <tr>\n",
       "      <th>1</th>\n",
       "      <td>2nd ODI</td>\n",
       "      <td>INDIA TOUR OF ZIMBABWE ODI SERIES 2022</td>\n",
       "      <td>[Zimbabwe, vs, India]</td>\n",
       "      <td>Harare Sports Club,</td>\n",
       "      <td>20 AUG 2022</td>\n",
       "      <td>12:45 PM IST</td>\n",
       "    </tr>\n",
       "    <tr>\n",
       "      <th>2</th>\n",
       "      <td>3rd ODI</td>\n",
       "      <td>INDIA TOUR OF ZIMBABWE ODI SERIES 2022</td>\n",
       "      <td>[Zimbabwe, vs, India]</td>\n",
       "      <td>Harare Sports Club,</td>\n",
       "      <td>22 AUG 2022</td>\n",
       "      <td>12:45 PM IST</td>\n",
       "    </tr>\n",
       "    <tr>\n",
       "      <th>3</th>\n",
       "      <td>1st T20I</td>\n",
       "      <td>ASIA CUP 2022</td>\n",
       "      <td>[India, vs, Pakistan]</td>\n",
       "      <td>Dubai International Cricket Stadium,</td>\n",
       "      <td>28 AUG 2022</td>\n",
       "      <td>7:30 PM IST</td>\n",
       "    </tr>\n",
       "    <tr>\n",
       "      <th>4</th>\n",
       "      <td>2nd T20I</td>\n",
       "      <td>ASIA CUP 2022</td>\n",
       "      <td>[India, vs]</td>\n",
       "      <td>Dubai International Cricket Stadium,</td>\n",
       "      <td>31 AUG 2022</td>\n",
       "      <td></td>\n",
       "    </tr>\n",
       "    <tr>\n",
       "      <th>5</th>\n",
       "      <td></td>\n",
       "      <td></td>\n",
       "      <td>[]</td>\n",
       "      <td></td>\n",
       "      <td></td>\n",
       "      <td></td>\n",
       "    </tr>\n",
       "    <tr>\n",
       "      <th>6</th>\n",
       "      <td></td>\n",
       "      <td></td>\n",
       "      <td>[]</td>\n",
       "      <td></td>\n",
       "      <td></td>\n",
       "      <td></td>\n",
       "    </tr>\n",
       "    <tr>\n",
       "      <th>7</th>\n",
       "      <td></td>\n",
       "      <td></td>\n",
       "      <td>[]</td>\n",
       "      <td></td>\n",
       "      <td></td>\n",
       "      <td></td>\n",
       "    </tr>\n",
       "    <tr>\n",
       "      <th>8</th>\n",
       "      <td></td>\n",
       "      <td></td>\n",
       "      <td>[]</td>\n",
       "      <td></td>\n",
       "      <td></td>\n",
       "      <td></td>\n",
       "    </tr>\n",
       "    <tr>\n",
       "      <th>9</th>\n",
       "      <td></td>\n",
       "      <td></td>\n",
       "      <td>[]</td>\n",
       "      <td></td>\n",
       "      <td></td>\n",
       "      <td></td>\n",
       "    </tr>\n",
       "    <tr>\n",
       "      <th>10</th>\n",
       "      <td></td>\n",
       "      <td></td>\n",
       "      <td>[]</td>\n",
       "      <td></td>\n",
       "      <td></td>\n",
       "      <td></td>\n",
       "    </tr>\n",
       "    <tr>\n",
       "      <th>11</th>\n",
       "      <td></td>\n",
       "      <td></td>\n",
       "      <td>[]</td>\n",
       "      <td></td>\n",
       "      <td></td>\n",
       "      <td></td>\n",
       "    </tr>\n",
       "    <tr>\n",
       "      <th>12</th>\n",
       "      <td></td>\n",
       "      <td></td>\n",
       "      <td>[]</td>\n",
       "      <td></td>\n",
       "      <td></td>\n",
       "      <td></td>\n",
       "    </tr>\n",
       "    <tr>\n",
       "      <th>13</th>\n",
       "      <td></td>\n",
       "      <td></td>\n",
       "      <td>[]</td>\n",
       "      <td></td>\n",
       "      <td></td>\n",
       "      <td></td>\n",
       "    </tr>\n",
       "  </tbody>\n",
       "</table>\n",
       "</div>"
      ],
      "text/plain": [
       "   Match_title                                  Series                Matches  \\\n",
       "0     1st ODI   INDIA TOUR OF ZIMBABWE ODI SERIES 2022  [Zimbabwe, vs, India]   \n",
       "1     2nd ODI   INDIA TOUR OF ZIMBABWE ODI SERIES 2022  [Zimbabwe, vs, India]   \n",
       "2     3rd ODI   INDIA TOUR OF ZIMBABWE ODI SERIES 2022  [Zimbabwe, vs, India]   \n",
       "3    1st T20I                            ASIA CUP 2022  [India, vs, Pakistan]   \n",
       "4    2nd T20I                            ASIA CUP 2022            [India, vs]   \n",
       "5                                                                          []   \n",
       "6                                                                          []   \n",
       "7                                                                          []   \n",
       "8                                                                          []   \n",
       "9                                                                          []   \n",
       "10                                                                         []   \n",
       "11                                                                         []   \n",
       "12                                                                         []   \n",
       "13                                                                         []   \n",
       "\n",
       "                                  Places        Dates        Timing  \n",
       "0                    Harare Sports Club,  18 AUG 2022  12:45 PM IST  \n",
       "1                    Harare Sports Club,  20 AUG 2022  12:45 PM IST  \n",
       "2                    Harare Sports Club,  22 AUG 2022  12:45 PM IST  \n",
       "3   Dubai International Cricket Stadium,  28 AUG 2022   7:30 PM IST  \n",
       "4   Dubai International Cricket Stadium,  31 AUG 2022                \n",
       "5                                                                    \n",
       "6                                                                    \n",
       "7                                                                    \n",
       "8                                                                    \n",
       "9                                                                    \n",
       "10                                                                   \n",
       "11                                                                   \n",
       "12                                                                   \n",
       "13                                                                   "
      ]
     },
     "execution_count": 32,
     "metadata": {},
     "output_type": "execute_result"
    }
   ],
   "source": [
    "India_Tour"
   ]
  },
  {
   "cell_type": "code",
   "execution_count": null,
   "id": "d1e9aae0",
   "metadata": {},
   "outputs": [],
   "source": []
  }
 ],
 "metadata": {
  "kernelspec": {
   "display_name": "Python 3",
   "language": "python",
   "name": "python3"
  },
  "language_info": {
   "codemirror_mode": {
    "name": "ipython",
    "version": 3
   },
   "file_extension": ".py",
   "mimetype": "text/x-python",
   "name": "python",
   "nbconvert_exporter": "python",
   "pygments_lexer": "ipython3",
   "version": "3.8.8"
  }
 },
 "nbformat": 4,
 "nbformat_minor": 5
}
