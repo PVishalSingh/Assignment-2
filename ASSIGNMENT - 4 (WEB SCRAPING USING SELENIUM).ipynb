{
 "cells": [
  {
   "cell_type": "code",
   "execution_count": 1,
   "id": "f5591277",
   "metadata": {},
   "outputs": [
    {
     "name": "stdout",
     "output_type": "stream",
     "text": [
      "Requirement already satisfied: selenium in c:\\users\\visual singh\\anaconda3\\lib\\site-packages (4.1.3)\n",
      "Requirement already satisfied: trio~=0.17 in c:\\users\\visual singh\\anaconda3\\lib\\site-packages (from selenium) (0.20.0)\n",
      "Requirement already satisfied: trio-websocket~=0.9 in c:\\users\\visual singh\\anaconda3\\lib\\site-packages (from selenium) (0.9.2)\n",
      "Requirement already satisfied: urllib3[secure,socks]~=1.26 in c:\\users\\visual singh\\anaconda3\\lib\\site-packages (from selenium) (1.26.4)\n",
      "Requirement already satisfied: cffi>=1.14 in c:\\users\\visual singh\\anaconda3\\lib\\site-packages (from trio~=0.17->selenium) (1.14.5)\n",
      "Requirement already satisfied: outcome in c:\\users\\visual singh\\anaconda3\\lib\\site-packages (from trio~=0.17->selenium) (1.1.0)\n",
      "Requirement already satisfied: sniffio in c:\\users\\visual singh\\anaconda3\\lib\\site-packages (from trio~=0.17->selenium) (1.2.0)\n",
      "Requirement already satisfied: sortedcontainers in c:\\users\\visual singh\\anaconda3\\lib\\site-packages (from trio~=0.17->selenium) (2.3.0)\n",
      "Requirement already satisfied: attrs>=19.2.0 in c:\\users\\visual singh\\anaconda3\\lib\\site-packages (from trio~=0.17->selenium) (20.3.0)\n",
      "Requirement already satisfied: async-generator>=1.9 in c:\\users\\visual singh\\anaconda3\\lib\\site-packages (from trio~=0.17->selenium) (1.10)\n",
      "Requirement already satisfied: idna in c:\\users\\visual singh\\anaconda3\\lib\\site-packages (from trio~=0.17->selenium) (2.10)\n",
      "Requirement already satisfied: pycparser in c:\\users\\visual singh\\anaconda3\\lib\\site-packages (from cffi>=1.14->trio~=0.17->selenium) (2.20)\n",
      "Requirement already satisfied: wsproto>=0.14 in c:\\users\\visual singh\\anaconda3\\lib\\site-packages (from trio-websocket~=0.9->selenium) (1.1.0)\n",
      "Requirement already satisfied: cryptography>=1.3.4 in c:\\users\\visual singh\\anaconda3\\lib\\site-packages (from urllib3[secure,socks]~=1.26->selenium) (3.4.7)\n",
      "Requirement already satisfied: certifi in c:\\users\\visual singh\\anaconda3\\lib\\site-packages (from urllib3[secure,socks]~=1.26->selenium) (2020.12.5)\n",
      "Requirement already satisfied: pyOpenSSL>=0.14 in c:\\users\\visual singh\\anaconda3\\lib\\site-packages (from urllib3[secure,socks]~=1.26->selenium) (20.0.1)\n",
      "Requirement already satisfied: PySocks!=1.5.7,<2.0,>=1.5.6 in c:\\users\\visual singh\\anaconda3\\lib\\site-packages (from urllib3[secure,socks]~=1.26->selenium) (1.7.1)\n",
      "Requirement already satisfied: six>=1.5.2 in c:\\users\\visual singh\\anaconda3\\lib\\site-packages (from pyOpenSSL>=0.14->urllib3[secure,socks]~=1.26->selenium) (1.15.0)\n",
      "Requirement already satisfied: h11<1,>=0.9.0 in c:\\users\\visual singh\\anaconda3\\lib\\site-packages (from wsproto>=0.14->trio-websocket~=0.9->selenium) (0.13.0)\n"
     ]
    }
   ],
   "source": [
    "!pip install selenium"
   ]
  },
  {
   "cell_type": "code",
   "execution_count": 2,
   "id": "c9889be3",
   "metadata": {},
   "outputs": [],
   "source": [
    "# importing libraries \n",
    "import selenium\n",
    "import pandas as pd\n",
    "import time\n",
    "\n",
    "from bs4 import BeautifulSoup\n",
    "from selenium import webdriver\n",
    "# importing exception \n",
    "from selenium.common.exceptions import StaleElementReferenceException,NoSuchElementException\n",
    "\n",
    "#importinf requests\n",
    "import requests\n",
    "\n",
    "#importing regex\n",
    "import re\n",
    "from selenium.webdriver.common.by import By\n",
    "import time "
   ]
  },
  {
   "cell_type": "code",
   "execution_count": 3,
   "id": "4b7321f4",
   "metadata": {},
   "outputs": [
    {
     "name": "stderr",
     "output_type": "stream",
     "text": [
      "<ipython-input-3-a187054f8675>:1: DeprecationWarning: executable_path has been deprecated, please pass in a Service object\n",
      "  driver=webdriver.Chrome(r\"C:\\Users\\Visual singh\\Downloads\\chromedriver_win32\\chromedriver.exe\")\n"
     ]
    }
   ],
   "source": [
    "driver=webdriver.Chrome(r\"C:\\Users\\Visual singh\\Downloads\\chromedriver_win32\\chromedriver.exe\")"
   ]
  },
  {
   "cell_type": "code",
   "execution_count": 4,
   "id": "e96078b1",
   "metadata": {},
   "outputs": [],
   "source": [
    "driver.get('http://www.bcci.tv/')"
   ]
  },
  {
   "cell_type": "code",
   "execution_count": 6,
   "id": "0ba9f618",
   "metadata": {},
   "outputs": [
    {
     "data": {
      "text/plain": [
       "<selenium.webdriver.remote.webelement.WebElement (session=\"05205d09b8606e941180068e076466e9\", element=\"49e3cc18-be36-490e-9379-a32455afc17d\")>"
      ]
     },
     "execution_count": 6,
     "metadata": {},
     "output_type": "execute_result"
    }
   ],
   "source": [
    "first_series=driver.find_element(By.XPATH,'//*[@id=\"fixtures\"]/div[3]/div/div[1]/div/div[1]/h5[2]/span')\n",
    "first_series"
   ]
  },
  {
   "cell_type": "code",
   "execution_count": 7,
   "id": "5fa51acc",
   "metadata": {},
   "outputs": [
    {
     "data": {
      "text/plain": [
       "'INDIA TOUR OF ZIMBABWE ODI SERIES 2022'"
      ]
     },
     "execution_count": 7,
     "metadata": {},
     "output_type": "execute_result"
    }
   ],
   "source": [
    "# To show the first name as result\n",
    "\n",
    "first_series.text"
   ]
  },
  {
   "cell_type": "code",
   "execution_count": 10,
   "id": "1aa596aa",
   "metadata": {},
   "outputs": [
    {
     "data": {
      "text/plain": [
       "<selenium.webdriver.remote.webelement.WebElement (session=\"05205d09b8606e941180068e076466e9\", element=\"b77c63a8-6226-4266-99cb-b7bd4de05c88\")>"
      ]
     },
     "execution_count": 10,
     "metadata": {},
     "output_type": "execute_result"
    }
   ],
   "source": [
    "first_match=driver.find_element(By.XPATH,'//*[@id=\"fixtures\"]/div[3]/div/div[1]/div/div[3]')\n",
    "first_match"
   ]
  },
  {
   "cell_type": "code",
   "execution_count": 11,
   "id": "3440f5db",
   "metadata": {},
   "outputs": [
    {
     "data": {
      "text/plain": [
       "'Zimbabwe\\nvs\\nIndia'"
      ]
     },
     "execution_count": 11,
     "metadata": {},
     "output_type": "execute_result"
    }
   ],
   "source": [
    "first_match.text"
   ]
  },
  {
   "cell_type": "code",
   "execution_count": 12,
   "id": "db7f5c28",
   "metadata": {},
   "outputs": [
    {
     "data": {
      "text/plain": [
       "<selenium.webdriver.remote.webelement.WebElement (session=\"05205d09b8606e941180068e076466e9\", element=\"2bf514d4-bda1-4065-ae17-76955cf2ef5d\")>"
      ]
     },
     "execution_count": 12,
     "metadata": {},
     "output_type": "execute_result"
    }
   ],
   "source": [
    "first_venue=driver.find_element(By.XPATH,'//*[@id=\"fixtures\"]/div[3]/div/div[1]/div/div[4]/div')\n",
    "first_venue"
   ]
  },
  {
   "cell_type": "code",
   "execution_count": 13,
   "id": "012ea7b5",
   "metadata": {},
   "outputs": [
    {
     "data": {
      "text/plain": [
       "'1st ODI - Harare Sports Club, Harare'"
      ]
     },
     "execution_count": 13,
     "metadata": {},
     "output_type": "execute_result"
    }
   ],
   "source": [
    "first_venue.text"
   ]
  },
  {
   "cell_type": "code",
   "execution_count": 14,
   "id": "d5905f64",
   "metadata": {},
   "outputs": [
    {
     "data": {
      "text/plain": [
       "<selenium.webdriver.remote.webelement.WebElement (session=\"05205d09b8606e941180068e076466e9\", element=\"9a77b305-9ad4-4262-911a-0aea8b7bd3a9\")>"
      ]
     },
     "execution_count": 14,
     "metadata": {},
     "output_type": "execute_result"
    }
   ],
   "source": [
    "first_date=driver.find_element(By.XPATH,'//*[@id=\"fixtures\"]/div[3]/div/div[1]/div/div[1]/div/div[1]/h5')\n",
    "first_date"
   ]
  },
  {
   "cell_type": "code",
   "execution_count": 15,
   "id": "3d1bb62f",
   "metadata": {},
   "outputs": [
    {
     "data": {
      "text/plain": [
       "'18 AUG 2022'"
      ]
     },
     "execution_count": 15,
     "metadata": {},
     "output_type": "execute_result"
    }
   ],
   "source": [
    "first_date.text"
   ]
  },
  {
   "cell_type": "code",
   "execution_count": 16,
   "id": "2c73ddf3",
   "metadata": {},
   "outputs": [
    {
     "data": {
      "text/plain": [
       "<selenium.webdriver.remote.webelement.WebElement (session=\"05205d09b8606e941180068e076466e9\", element=\"a4c8e84b-cc95-418a-99c5-45f333d86e04\")>"
      ]
     },
     "execution_count": 16,
     "metadata": {},
     "output_type": "execute_result"
    }
   ],
   "source": [
    "first_time=driver.find_element(By.XPATH,'//*[@id=\"fixtures\"]/div[3]/div/div[1]/div/div[1]/div/div[2]/h5')\n",
    "first_time"
   ]
  },
  {
   "cell_type": "code",
   "execution_count": 17,
   "id": "31e4f159",
   "metadata": {},
   "outputs": [
    {
     "data": {
      "text/plain": [
       "'12:45 PM IST'"
      ]
     },
     "execution_count": 17,
     "metadata": {},
     "output_type": "execute_result"
    }
   ],
   "source": [
    "first_time.text"
   ]
  },
  {
   "cell_type": "code",
   "execution_count": 50,
   "id": "2ac20127",
   "metadata": {},
   "outputs": [],
   "source": [
    "# empty list for store\n",
    "Match_Series=[]\n",
    "series=driver.find_elements(By.XPATH,'//div[@class=\"fixture-card-top\"]')\n",
    "\n",
    "for i in series:\n",
    "\n",
    "       Match_Series.append(i.text)"
   ]
  },
  {
   "cell_type": "code",
   "execution_count": 51,
   "id": "39b29958",
   "metadata": {},
   "outputs": [
    {
     "data": {
      "text/plain": [
       "['INDIA TOUR OF ZIMBABWE ODI SERIES 2022\\n18 AUG 2022\\n12:45 PM IST',\n",
       " 'INDIA TOUR OF ZIMBABWE ODI SERIES 2022\\n20 AUG 2022\\n12:45 PM IST',\n",
       " 'INDIA TOUR OF ZIMBABWE ODI SERIES 2022\\n22 AUG 2022\\n12:45 PM IST',\n",
       " 'ASIA CUP 2022\\n28 AUG 2022\\n7:30 PM IST',\n",
       " 'ASIA CUP 2022\\n31 AUG 2022\\n7:30 PM IST']"
      ]
     },
     "execution_count": 51,
     "metadata": {},
     "output_type": "execute_result"
    }
   ],
   "source": [
    "Match_Series"
   ]
  },
  {
   "cell_type": "code",
   "execution_count": 70,
   "id": "63e6bd55",
   "metadata": {},
   "outputs": [],
   "source": [
    "Matches=[]\n",
    "\n",
    "matche=driver.find_elements(By.XPATH,'//*[@id=\"fixtures\"]/div[3]/div/div[1]/div/div[3]')\n",
    "\n",
    "for i in matche:\n",
    "\n",
    "       Matches.append(i.text.split()[0:8])"
   ]
  },
  {
   "cell_type": "code",
   "execution_count": 71,
   "id": "66caa33e",
   "metadata": {},
   "outputs": [
    {
     "data": {
      "text/plain": [
       "[['Zimbabwe', 'vs', 'India']]"
      ]
     },
     "execution_count": 71,
     "metadata": {},
     "output_type": "execute_result"
    }
   ],
   "source": [
    "Matches"
   ]
  },
  {
   "cell_type": "code",
   "execution_count": 74,
   "id": "168bbb1b",
   "metadata": {},
   "outputs": [],
   "source": [
    "Places=[]\n",
    "\n",
    "Place=driver.find_elements(By.XPATH,'//div[@class=\"fixture-card-bottom\"]')\n",
    "\n",
    "for i in Place:\n",
    "\n",
    "       Places.append(i.text)"
   ]
  },
  {
   "cell_type": "code",
   "execution_count": 75,
   "id": "7598c5cd",
   "metadata": {},
   "outputs": [
    {
     "data": {
      "text/plain": [
       "['1st ODI - Harare Sports Club, Harare\\nMatch Centre',\n",
       " '2nd ODI - Harare Sports Club, Harare\\nMatch Centre',\n",
       " '3rd ODI - Harare Sports Club, Harare\\nMatch Centre',\n",
       " '1st T20I - Dubai International Cricket Stadium, Dubai\\nMatch Centre',\n",
       " '2nd T20I - Dubai International Cricket Stadium, Dubai\\nMatch Centre']"
      ]
     },
     "execution_count": 75,
     "metadata": {},
     "output_type": "execute_result"
    }
   ],
   "source": [
    "Places"
   ]
  },
  {
   "cell_type": "code",
   "execution_count": 86,
   "id": "8bfe607c",
   "metadata": {},
   "outputs": [],
   "source": [
    "Dates=[]\n",
    "\n",
    "Date=driver.find_elements(By.XPATH,'//h5[@class=\"ng-binding\"]')\n",
    "\n",
    "for i in Date:\n",
    "\n",
    "       Dates.append(i.text)"
   ]
  },
  {
   "cell_type": "code",
   "execution_count": 87,
   "id": "4e15cb70",
   "metadata": {},
   "outputs": [
    {
     "data": {
      "text/plain": [
       "['18 AUG 2022', '20 AUG 2022', '22 AUG 2022', '28 AUG 2022', '31 AUG 2022']"
      ]
     },
     "execution_count": 87,
     "metadata": {},
     "output_type": "execute_result"
    }
   ],
   "source": [
    "Dates"
   ]
  },
  {
   "cell_type": "code",
   "execution_count": 78,
   "id": "397b2f92",
   "metadata": {},
   "outputs": [],
   "source": [
    "Timing=[]\n",
    "\n",
    "Timings=driver.find_elements(By.XPATH,'//div[@class=\"match-card-right match-schedule \"]')\n",
    "\n",
    "for i in Timings:\n",
    "\n",
    "       Timing.append(i.text)"
   ]
  },
  {
   "cell_type": "code",
   "execution_count": 79,
   "id": "8add34d6",
   "metadata": {},
   "outputs": [
    {
     "data": {
      "text/plain": [
       "['12:45 PM IST', '12:45 PM IST', '12:45 PM IST', '7:30 PM IST', '7:30 PM IST']"
      ]
     },
     "execution_count": 79,
     "metadata": {},
     "output_type": "execute_result"
    }
   ],
   "source": [
    "Timing"
   ]
  },
  {
   "cell_type": "code",
   "execution_count": null,
   "id": "827e50a4",
   "metadata": {},
   "outputs": [],
   "source": [
    "Match_Series"
   ]
  },
  {
   "cell_type": "code",
   "execution_count": null,
   "id": "1669e4b8",
   "metadata": {},
   "outputs": [],
   "source": [
    "# blank list variables   \n",
    "Matches =[]\n",
    "Series =[]\n",
    "Place =[]\n",
    "Date =[]\n",
    "Time =[]\n",
    "\n",
    "for url in URL[:40]: ##loop for every guitar in the list\n",
    "    driver.get(url)\n",
    "    time.sleep(2)\n",
    "    \n",
    "    try:\n",
    "        brand= driver.find_element(By.XPATH,'//*[@id=\"productOverview_feature_div\"]/div/table/tbody/tr[1]/td[2]/span')\n",
    "        Brand.append(brand.text)\n",
    "    except NoSuchElementException:\n",
    "        Brand.append('-') \n",
    "        \n",
    "    try:\n",
    "        exchange = driver.find_element(By.XPATH,'//*[@id=\"RETURNS_POLICY\"]/span/div[2]/a')\n",
    "        ReturnExchange.append(exchange.text)\n",
    "    except NoSuchElementException:\n",
    "        ReturnExchange.append('-') \n",
    "    \n",
    "    try:\n",
    "        product.append(driver.find_element(By.XPATH,'//span[@id=\"productTitle\"]').text)\n",
    "    except:\n",
    "        product.append('-')\n",
    "        \n",
    "    try:\n",
    "        try:\n",
    "            price.append(driver.find_element(By.XPATH,'//td[@class=\"a-span12\"]').text)\n",
    "        except:\n",
    "            price.append(driver.find_element_by_css_selector('span[class=\"a-price-whole\"]').text)             \n",
    "    except:\n",
    "        price.append('-')\n",
    "        \n",
    "        \n",
    "    try:\n",
    "        availability.append( driver.find_element(By.XPATH,'//div[@id=\"availability\"]').text)\n",
    "    except:\n",
    "        availability.append('-')"
   ]
  },
  {
   "cell_type": "code",
   "execution_count": null,
   "id": "344bf380",
   "metadata": {},
   "outputs": [],
   "source": []
  },
  {
   "cell_type": "code",
   "execution_count": null,
   "id": "2f335add",
   "metadata": {},
   "outputs": [],
   "source": []
  },
  {
   "cell_type": "code",
   "execution_count": null,
   "id": "795875c0",
   "metadata": {},
   "outputs": [],
   "source": []
  },
  {
   "cell_type": "code",
   "execution_count": null,
   "id": "688300eb",
   "metadata": {},
   "outputs": [],
   "source": [
    "# blank list variables   \n",
    "product = []\n",
    "price = []\n",
    "availability=[]\n",
    "Brand=[]\n",
    "ReturnExchange=[]\n",
    "Delivery=[]\n",
    "\n",
    "\n",
    "for url in URL[:40]: ##loop for every guitar in the list\n",
    "    driver.get(url)\n",
    "    time.sleep(2)\n",
    "    \n",
    "    try:\n",
    "        brand= driver.find_element(By.XPATH,'//*[@id=\"productOverview_feature_div\"]/div/table/tbody/tr[1]/td[2]/span')\n",
    "        Brand.append(brand.text)\n",
    "    except NoSuchElementException:\n",
    "        Brand.append('-') \n",
    "        \n",
    "    try:\n",
    "        exchange = driver.find_element(By.XPATH,'//*[@id=\"RETURNS_POLICY\"]/span/div[2]/a')\n",
    "        ReturnExchange.append(exchange.text)\n",
    "    except NoSuchElementException:\n",
    "        ReturnExchange.append('-') \n",
    "    try:\n",
    "        delivery= driver.find_element(By.XPATH,'//span[@class=\"a-text-bold\"]')\n",
    "        Delivery.append(delivery.text)\n",
    "    except NoSuchElementException:\n",
    "        Delivery.append('-') \n",
    "        \n",
    "    \n",
    "    try:\n",
    "        product.append(driver.find_element(By.XPATH,'//span[@id=\"productTitle\"]').text)\n",
    "    except:\n",
    "        product.append('-')\n",
    "        \n",
    "    try:\n",
    "        try:\n",
    "            price.append(driver.find_element(By.XPATH,'//td[@class=\"a-span12\"]').text)\n",
    "        except:\n",
    "            price.append(driver.find_element_by_css_selector('span[class=\"a-price-whole\"]').text)             \n",
    "    except:\n",
    "        price.append('-')\n",
    "        \n",
    "        \n",
    "    try:\n",
    "        availability.append( driver.find_element(By.XPATH,'//div[@id=\"availability\"]').text)\n",
    "    except:\n",
    "        availability.append('-')"
   ]
  },
  {
   "cell_type": "code",
   "execution_count": null,
   "id": "1fa22148",
   "metadata": {},
   "outputs": [],
   "source": [
    "search_input=driver.find_element(By.XPATH,\"http://www.bcci.tv/\")"
   ]
  },
  {
   "cell_type": "code",
   "execution_count": null,
   "id": "02a8a27a",
   "metadata": {},
   "outputs": [],
   "source": [
    "//*[@id=\"mw-content-text\"]/div[1]/table[3]/tbody/tr[1]/td[1]/a"
   ]
  },
  {
   "cell_type": "code",
   "execution_count": null,
   "id": "27969708",
   "metadata": {},
   "outputs": [],
   "source": [
    "stop 🛑 "
   ]
  },
  {
   "cell_type": "code",
   "execution_count": null,
   "id": "0d5539b3",
   "metadata": {},
   "outputs": [],
   "source": [
    "search_input=driver.find_element(By.CLASS_NAME,\"nav-search-field\")"
   ]
  },
  {
   "cell_type": "code",
   "execution_count": null,
   "id": "b43ec1ef",
   "metadata": {},
   "outputs": [],
   "source": [
    "search_input=driver.find_element(By.XPATH,\"/html/body/div[1]/header/div/div[1]/div[2]/div/form/div[2]/div[1]/input\")\n",
    "search_input.send_keys(\"guitar\")\n",
    "search_button=driver.find_element(By.XPATH,'/html/body/div[1]/header/div/div[1]/div[2]/div/form/div[3]/div')\n",
    "search_button.click()\n",
    "time.sleep(3)"
   ]
  },
  {
   "cell_type": "code",
   "execution_count": null,
   "id": "53d92883",
   "metadata": {},
   "outputs": [],
   "source": [
    "# fetching url to open each product name\n",
    "URL=[]\n",
    "start=0\n",
    "end=3\n",
    "\n",
    "for page in range (start,end):\n",
    "    url=driver.find_elements(By.XPATH,'//a[@class=\"a-link-normal s-underline-text s-underline-link-text s-link-style a-text-normal\"]')\n",
    "    \n",
    "    for i in url:\n",
    "     URL.append(i.get_attribute('href'))\n",
    "    \n",
    "    next_button=driver.find_elements(By.XPATH,'/html/body/div[1]/div[2]/div[1]/div[1]/div/span[3]/div[2]/div[69]/div/div/span/a[3]')"
   ]
  },
  {
   "cell_type": "code",
   "execution_count": null,
   "id": "1e400103",
   "metadata": {},
   "outputs": [],
   "source": [
    "len(URL)"
   ]
  },
  {
   "cell_type": "code",
   "execution_count": null,
   "id": "6cf06d15",
   "metadata": {},
   "outputs": [],
   "source": [
    "URL"
   ]
  },
  {
   "cell_type": "code",
   "execution_count": null,
   "id": "1c5fce8a",
   "metadata": {},
   "outputs": [],
   "source": [
    "# blank list variables   \n",
    "product = []\n",
    "price = []\n",
    "availability=[]\n",
    "Brand=[]\n",
    "ReturnExchange=[]\n",
    "Delivery=[]\n",
    "\n",
    "\n",
    "for url in URL[:40]: ##loop for every guitar in the list\n",
    "    driver.get(url)\n",
    "    time.sleep(2)\n",
    "    \n",
    "    try:\n",
    "        brand= driver.find_element(By.XPATH,'//*[@id=\"productOverview_feature_div\"]/div/table/tbody/tr[1]/td[2]/span')\n",
    "        Brand.append(brand.text)\n",
    "    except NoSuchElementException:\n",
    "        Brand.append('-') \n",
    "        \n",
    "    try:\n",
    "        exchange = driver.find_element(By.XPATH,'//*[@id=\"RETURNS_POLICY\"]/span/div[2]/a')\n",
    "        ReturnExchange.append(exchange.text)\n",
    "    except NoSuchElementException:\n",
    "        ReturnExchange.append('-') \n",
    "    try:\n",
    "        delivery= driver.find_element(By.XPATH,'//span[@class=\"a-text-bold\"]')\n",
    "        Delivery.append(delivery.text)\n",
    "    except NoSuchElementException:\n",
    "        Delivery.append('-') \n",
    "        \n",
    "    \n",
    "    try:\n",
    "        product.append(driver.find_element(By.XPATH,'//span[@id=\"productTitle\"]').text)\n",
    "    except:\n",
    "        product.append('-')\n",
    "        \n",
    "    try:\n",
    "        try:\n",
    "            price.append(driver.find_element(By.XPATH,'//td[@class=\"a-span12\"]').text)\n",
    "        except:\n",
    "            price.append(driver.find_element_by_css_selector('span[class=\"a-price-whole\"]').text)             \n",
    "    except:\n",
    "        price.append('-')\n",
    "        \n",
    "        \n",
    "    try:\n",
    "        availability.append( driver.find_element(By.XPATH,'//div[@id=\"availability\"]').text)\n",
    "    except:\n",
    "        availability.append('-')"
   ]
  },
  {
   "cell_type": "code",
   "execution_count": null,
   "id": "06f1d283",
   "metadata": {},
   "outputs": [],
   "source": [
    "Brand"
   ]
  },
  {
   "cell_type": "code",
   "execution_count": null,
   "id": "b3474d7a",
   "metadata": {},
   "outputs": [],
   "source": [
    "ReturnExchange"
   ]
  },
  {
   "cell_type": "code",
   "execution_count": null,
   "id": "b4c5dae4",
   "metadata": {},
   "outputs": [],
   "source": [
    "Delivery"
   ]
  },
  {
   "cell_type": "code",
   "execution_count": null,
   "id": "762cb5ec",
   "metadata": {},
   "outputs": [],
   "source": [
    "product"
   ]
  },
  {
   "cell_type": "code",
   "execution_count": null,
   "id": "5e08182f",
   "metadata": {},
   "outputs": [],
   "source": [
    "price"
   ]
  },
  {
   "cell_type": "code",
   "execution_count": null,
   "id": "f794c941",
   "metadata": {},
   "outputs": [],
   "source": [
    "availability"
   ]
  },
  {
   "cell_type": "code",
   "execution_count": null,
   "id": "45d97d03",
   "metadata": {},
   "outputs": [],
   "source": [
    "print(len(Brand),len(ReturnExchange),len(Delivery),len(product),len(price),len(availability))"
   ]
  },
  {
   "cell_type": "code",
   "execution_count": null,
   "id": "5c3e13f7",
   "metadata": {},
   "outputs": [],
   "source": [
    "data = pd.DataFrame({\"brand\":Brand,\"Returnexchange\":ReturnExchange,\"delivery\":Delivery,\"Product\":product, \"Price\":price,\"Availablity\":availability})"
   ]
  },
  {
   "cell_type": "code",
   "execution_count": null,
   "id": "7278d6ac",
   "metadata": {},
   "outputs": [],
   "source": [
    "data\n"
   ]
  },
  {
   "cell_type": "code",
   "execution_count": null,
   "id": "39cb4b48",
   "metadata": {},
   "outputs": [],
   "source": [
    "# For explanation of this code, you can visit this video: https://www.youtube.com/watch?v=8AyKJxBxx0M&t=172s\n",
    "import os\n",
    "import requests # pip install requests #to sent GET requests\n",
    "from bs4 import BeautifulSoup # pip install bs4 #to parse html(getting data out from html, xml or other markup languages)\n",
    "\n"
   ]
  },
  {
   "cell_type": "code",
   "execution_count": null,
   "id": "0340c266",
   "metadata": {},
   "outputs": [],
   "source": [
    "# user can input a search keyword and the count of images required\n",
    "# download images from google search image\n",
    "Google_Image = \\\n",
    "    'https://www.google.com/search?site=&tbm=isch&source=hp&biw=1873&bih=990&'"
   ]
  },
  {
   "cell_type": "code",
   "execution_count": null,
   "id": "3dd991cb",
   "metadata": {},
   "outputs": [],
   "source": [
    "# The User-Agent request header contains a characteristic string \n",
    "# that allows the network protocol peers to identify the application type, \n",
    "# operating system, and software version of the requesting software user agent.\n",
    "# needed for google search\n",
    "u_agnt = {\n",
    "    'User-Agent': 'Mozilla/5.0 (Windows NT 10.0; Win64; x64) AppleWebKit/537.36 (KHTML, like Gecko) Chrome/85.0.4183.83 Safari/537.36',\n",
    "    'Accept': 'text/html,application/xhtml+xml,application/xml;q=0.9,*/*;q=0.8',\n",
    "    'Accept-Charset': 'ISO-8859-1,utf-8;q=0.7,*;q=0.3',\n",
    "    'Accept-Encoding': 'none',\n",
    "    'Accept-Language': 'en-US,en;q=0.8',\n",
    "    'Connection': 'keep-alive',\n",
    "} #write: 'my user agent' in browser to get your browser user agent details\n",
    "\n",
    "Image_Folder = 'Images_1'"
   ]
  },
  {
   "cell_type": "code",
   "execution_count": null,
   "id": "10729269",
   "metadata": {},
   "outputs": [],
   "source": [
    "def main():\n",
    "    if not os.path.exists(Image_Folder):\n",
    "        os.mkdir(Image_Folder)\n",
    "    download_images()\n",
    "\n",
    "def download_images():\n",
    "    data = input('Enter your search keyword: ')\n",
    "    num_images = int(input('Enter the number of images you want: '))\n",
    "    \n",
    "    print('Searching Images....')\n",
    "    \n",
    "    search_url = Google_Image + 'q=' + data #'q=' because its a query\n",
    "    \n",
    "    # request url, without u_agnt the permission gets denied\n",
    "    response = requests.get(search_url, headers=u_agnt)\n",
    "    html = response.text #To get actual result i.e. to read the html data in text mode\n",
    "    \n",
    "    # find all img where class='rg_i Q4LuWd'\n",
    "    b_soup = BeautifulSoup(html, 'html.parser') #html.parser is used to parse/extract features from HTML files\n",
    "    results = b_soup.findAll('img', {'class': 'rg_i Q4LuWd'})\n",
    "    \n",
    "    #extract the links of requested number of images with 'data-src' attribute and appended those links to a list 'imagelinks'\n",
    "    #allow to continue the loop in case query fails for non-data-src attributes\n",
    "    count = 0\n",
    "    imagelinks= []\n",
    "    for res in results:\n",
    "        try:\n",
    "            link = res['data-src']\n",
    "            imagelinks.append(link)\n",
    "            count = count + 1\n",
    "            if (count >= num_images):\n",
    "                break\n",
    "            \n",
    "        except KeyError:\n",
    "            continue\n",
    "    \n",
    "    print(f'Found {len(imagelinks)} images')\n",
    "    print('Start downloading...')\n",
    "\n",
    "    for i, imagelink in enumerate(imagelinks):\n",
    "        # open each image link and save the file\n",
    "        response = requests.get(imagelink)\n",
    "        \n",
    "        imagename = Image_Folder + '/' + data + str(i+1) + '.jpg'\n",
    "        with open(imagename, 'wb') as file:\n",
    "            file.write(response.content)\n",
    "\n",
    "    print('Download Completed!')\n",
    "    \n",
    "\n",
    "if __name__ == '__main__':\n",
    "    main()"
   ]
  },
  {
   "cell_type": "code",
   "execution_count": null,
   "id": "32ead033",
   "metadata": {},
   "outputs": [],
   "source": [
    "driver=webdriver.Chrome(r\"C:\\Users\\Visual singh\\Downloads\\chromedriver_win32\\chromedriver.exe\")"
   ]
  },
  {
   "cell_type": "code",
   "execution_count": null,
   "id": "428427c6",
   "metadata": {},
   "outputs": [],
   "source": [
    "driver.get('http://www.flipkart.com/')"
   ]
  },
  {
   "cell_type": "code",
   "execution_count": null,
   "id": "723fc792",
   "metadata": {},
   "outputs": [],
   "source": [
    "search_input=driver.find_element(By.XPATH,\"/html/body/div[1]/div/div[1]/div[1]/div[2]/div[2]/form/div/div/input\")"
   ]
  },
  {
   "cell_type": "code",
   "execution_count": null,
   "id": "68f9ad32",
   "metadata": {},
   "outputs": [],
   "source": [
    "search_input=driver.find_element(By.XPATH,\"/html/body/div[1]/div/div[1]/div[1]/div[2]/div[2]/form/div/div/input\")\n",
    "search_input.send_keys(\"smartphone above 40,000\")\n",
    "search_button=driver.find_element(By.CLASS_NAME,'L0Z3Pu')\n",
    "search_button.click()\n",
    "time.sleep(3)"
   ]
  },
  {
   "cell_type": "code",
   "execution_count": null,
   "id": "1cebc33a",
   "metadata": {},
   "outputs": [],
   "source": [
    "# fetching url to open each product name\n",
    "URLs=[]\n",
    "start=0\n",
    "end=10\n",
    "\n",
    "for page in range (start,end):\n",
    "    url=driver.find_elements(By.XPATH,'//*[@id=\"container\"]/div/div[3]/div[1]/div[2]/div[2]/div/div/div/a')\n",
    "    \n",
    "    for i in url:\n",
    "     URLs.append(i.get_attribute('href'))\n",
    "    \n",
    "    next_button=driver.find_elements(By.XPATH,'/html/body/div[1]/div/div[3]/div[1]/div[2]/div[26]/div/div/nav/a[11]/span')\n",
    "    "
   ]
  },
  {
   "cell_type": "code",
   "execution_count": null,
   "id": "9d664baa",
   "metadata": {},
   "outputs": [],
   "source": [
    "len(URLs)"
   ]
  },
  {
   "cell_type": "code",
   "execution_count": null,
   "id": "dd7f963e",
   "metadata": {},
   "outputs": [],
   "source": [
    "URLs"
   ]
  },
  {
   "cell_type": "code",
   "execution_count": null,
   "id": "67c01c64",
   "metadata": {},
   "outputs": [],
   "source": [
    "# blank list variables   \n",
    "brand=[]\n",
    "smartphone=[]\n",
    "colour=[], \n",
    "ram=[]\n",
    "rom=[]\n",
    "primary_camera=[]\n",
    "secondary_camera=[] \n",
    "display_size=[] \n",
    "battery_capacity=[]\n",
    "price=[]\n",
    "product_URL=[]\n",
    "\n",
    "\n",
    "for url in URLs[:10]: ##loop for every guitar in the list\n",
    "    driver.get(url)\n",
    "    time.sleep(2)\n",
    "   \n",
    "    try:\n",
    "        brand= driver.find_element(By.XPATH,'//*[@id=\"container\"]/div/div[3]/div[1]/div[2]/div[2]/div/div[1]/h1/span')\n",
    "        Brand.append(brand.text)\n",
    "    except NoSuchElementException:\n",
    "        Brand.append('-') \n",
    "        \n",
    "    try:\n",
    "        smartphone= driver.find_element(By.XPATH,'//*[@id=\"container\"]/div/div[3]/div[1]/div[2]/div[2]/div/div/div/a/div[2]/div[1]/div[1]')\n",
    "        Smartphone.append(smartphone.text)\n",
    "    except NoSuchElementException:\n",
    "        Smartphone.append('-') \n",
    "    \n",
    "    try:\n",
    "        colour= driver.find_element(By.XPATH,'//*[@id=\"container\"]/div/div[3]/div[1]/div[2]/div[9]/div[5]/div/div[2]/div[1]/div[1]/table/tbody/tr[4]/td[2]/ul/li')\n",
    "        Colour.append(colour.text)\n",
    "    except NoSuchElementException:\n",
    "        Colour.append('-') \n",
    "     \n",
    "    try:\n",
    "        ram= driver.find_element(By.XPATH,'//*[@id=\"container\"]/div/div[3]/div[1]/div[2]/div[9]/div[5]/div/div[2]/div[1]/div[4]/table/tbody/tr[2]/td[2]/ul/li')\n",
    "        RAM.append(ram.text)\n",
    "    except NoSuchElementException:\n",
    "        RAM.append('-') \n",
    "    \n",
    "    try:\n",
    "        rom= driver.find_element(By.XPATH,'//*[@id=\"container\"]/div/div[3]/div[1]/div[2]/div[9]/div[5]/div/div[2]/div[1]/div[4]/table/tbody/tr[1]/td[2]/ul/li')\n",
    "        ROM.append(rom.text)\n",
    "    except NoSuchElementException:\n",
    "        ROM.append('-') \n",
    "    \n",
    "    try:\n",
    "        primary_camera= driver.find_element(By.XPATH,'//*[@id=\"container\"]/div/div[3]/div[1]/div[2]/div[9]/div[5]/div/div[2]/div[1]/div[5]/table/tbody/tr[2]/td[2]/ul/li')\n",
    "        Primary_Camera.append(primary_camera.text)\n",
    "    except NoSuchElementException:\n",
    "        Primary_Camera.append('-') \n",
    "    \n",
    "    try:\n",
    "        secondary_camera= driver.find_element(By.XPATH,'//*[@id=\"container\"]/div/div[3]/div[1]/div[2]/div[9]/div[5]/div/div[2]/div[1]/div[5]/table/tbody/tr[5]/td[2]/ul/li')\n",
    "        Secondary_Camera.append(secondary_camera.text)\n",
    "    except NoSuchElementException:\n",
    "        Secondary_Camera.append('-')    \n",
    "    \n",
    "    try:\n",
    "        display_size= driver.find_element(By.XPATH,'//*[@id=\"container\"]/div/div[3]/div[1]/div[2]/div[9]/div[5]/div/div[2]/div[1]/div[2]/table/tbody/tr[1]/td[2]/ul/li')\n",
    "        Display_Size.append(display_size.text)\n",
    "    except NoSuchElementException:\n",
    "        Display_Size.append('-') \n",
    "    \n",
    "    try:\n",
    "        battery_capacity= driver.find_element(By.XPATH,'/html/body/div[1]/div/div[3]/div[1]/div[2]/div[9]/div[5]/div/div[2]/div[1]/div[10]/table/tbody/tr/td[2]/ul/li')\n",
    "        Battery_Capacity.append(battery_capacity.text)\n",
    "    except NoSuchElementException:\n",
    "        Battery_Capacity.append('-')     \n",
    "\n",
    "        \n",
    "    try:\n",
    "        price= driver.find_element(By.XPATH,'//*[@id=\"container\"]/div/div[3]/div[1]/div[2]/div[2]/div/div[3]/div[1]/div/div')\n",
    "        Price.append(price.text)\n",
    "    except NoSuchElementException:\n",
    "        Price.append('-') \n",
    "        \n",
    "    try:\n",
    "        product_URL= driver.find_element(By.XPATH,'//*[@id=\"container\"]/div/div[3]/div[1]/div[2]/div[2]/div/div/div/a')\n",
    "        URL.append(product_URL.text)\n",
    "    except NoSuchElementException:\n",
    "        URL.append('-') "
   ]
  },
  {
   "cell_type": "code",
   "execution_count": null,
   "id": "59567f76",
   "metadata": {},
   "outputs": [],
   "source": [
    "driver=webdriver.Chrome(r\"C:\\Users\\Visual singh\\Downloads\\chromedriver_win32\\chromedriver.exe\")"
   ]
  },
  {
   "cell_type": "code",
   "execution_count": null,
   "id": "8634b4e5",
   "metadata": {},
   "outputs": [],
   "source": [
    "driver.get('http://www.forbes.com/')"
   ]
  },
  {
   "cell_type": "code",
   "execution_count": null,
   "id": "3b7c4dce",
   "metadata": {},
   "outputs": [],
   "source": [
    "# opening search icon \n",
    "search_icon=driver.find_element(By.XPATH,\"/html/body/div[1]/header/nav/div[4]/button\")"
   ]
  },
  {
   "cell_type": "code",
   "execution_count": null,
   "id": "de04a0d2",
   "metadata": {},
   "outputs": [],
   "source": [
    "search_input=driver.find_element(By.CLASS_NAME,\"search-modal__input\")"
   ]
  },
  {
   "cell_type": "code",
   "execution_count": null,
   "id": "5a89432e",
   "metadata": {},
   "outputs": [],
   "source": [
    "# opening search icon \n",
    "search_icon=driver.find_element(By.XPATH,\"/html/body/div[1]/header/nav/div[4]/button\")\n",
    "search_input=driver.find_element(By.XPATH,\"/html/body/div[1]/div[3]/form/input\")\n",
    "search_input.send_keys(\"top billionaires\")\n",
    "search_button=driver.find_element(By.XPATH,'/html/body/div[1]/div[3]/form/button')\n",
    "search_button.click()\n",
    "time.sleep(3)"
   ]
  },
  {
   "cell_type": "code",
   "execution_count": null,
   "id": "b6edecb3",
   "metadata": {},
   "outputs": [],
   "source": [
    "# fetching url to open each product name\n",
    "URL=[]\n",
    "start=0\n",
    "end=3\n",
    "\n",
    "for page in range (start,end):\n",
    "    url=driver.find_elements(By.XPATH,'//a[@class=\"a-link-normal s-underline-text s-underline-link-text s-link-style a-text-normal\"]')\n",
    "    \n",
    "    for i in url:\n",
    "     URL.append(i.get_attribute('href'))\n",
    "    \n",
    "    next_button=driver.find_elements(By.XPATH,'/html/body/div[1]/div[2]/div[1]/div[1]/div/span[3]/div[2]/div[69]/div/div/span/a[3]')"
   ]
  },
  {
   "cell_type": "code",
   "execution_count": null,
   "id": "5ce575ba",
   "metadata": {},
   "outputs": [],
   "source": [
    "len(URL)"
   ]
  },
  {
   "cell_type": "code",
   "execution_count": null,
   "id": "0b40611e",
   "metadata": {},
   "outputs": [],
   "source": [
    "URL"
   ]
  },
  {
   "cell_type": "code",
   "execution_count": null,
   "id": "9adc0c6f",
   "metadata": {},
   "outputs": [],
   "source": [
    "# blank list variables   \n",
    "product = []\n",
    "price = []\n",
    "availability=[]\n",
    "Brand=[]\n",
    "ReturnExchange=[]\n",
    "Delivery=[]\n",
    "“Rank”, “Name”, “Net worth”, “Age”, “Citizenship”, “Source”, “Industry”\n",
    "\n",
    "for url in URL[:10]: ##loop for every guitar in the list\n",
    "    driver.get(url)\n",
    "    time.sleep(2)\n",
    "    \n",
    "    try:\n",
    "        brand= driver.find_element(By.XPATH,'//*[@id=\"productOverview_feature_div\"]/div/table/tbody/tr[1]/td[2]/span')\n",
    "        Brand.append(brand.text)\n",
    "    except NoSuchElementException:\n",
    "        Brand.append('-') \n",
    "        \n",
    "    try:\n",
    "        exchange = driver.find_element(By.XPATH,'//*[@id=\"RETURNS_POLICY\"]/span/div[2]/a')\n",
    "        ReturnExchange.append(exchange.text)\n",
    "    except NoSuchElementException:\n",
    "        ReturnExchange.append('-') \n",
    "    try:\n",
    "        delivery= driver.find_element(By.XPATH,'//span[@class=\"a-text-bold\"]')\n",
    "        Delivery.append(delivery.text)\n",
    "    except NoSuchElementException:\n",
    "        Delivery.append('-') \n",
    "        \n",
    "    \n",
    "    try:\n",
    "        product.append(driver.find_element(By.XPATH,'//span[@id=\"productTitle\"]').text)\n",
    "    except:\n",
    "        product.append('-')\n",
    "        \n",
    "    try:\n",
    "        try:\n",
    "            price.append(driver.find_element(By.XPATH,'//td[@class=\"a-span12\"]').text)\n",
    "        except:\n",
    "            price.append(driver.find_element_by_css_selector('span[class=\"a-price-whole\"]').text)             \n",
    "    except:\n",
    "        price.append('-')\n",
    "        \n",
    "        \n",
    "    try:\n",
    "        availability.append( driver.find_element(By.XPATH,'//div[@id=\"availability\"]').text)\n",
    "    except:\n",
    "        availability.append('-')"
   ]
  },
  {
   "cell_type": "code",
   "execution_count": null,
   "id": "dd674566",
   "metadata": {},
   "outputs": [],
   "source": [
    "driver=webdriver.Chrome(r\"C:\\Users\\Visual singh\\Downloads\\chromedriver_win32\\chromedriver.exe\")"
   ]
  },
  {
   "cell_type": "code",
   "execution_count": null,
   "id": "a3516cd6",
   "metadata": {},
   "outputs": [],
   "source": [
    "driver.get('http://www.amazon.in/')"
   ]
  },
  {
   "cell_type": "code",
   "execution_count": null,
   "id": "f4b08d71",
   "metadata": {},
   "outputs": [],
   "source": [
    "search_input=driver.find_element(By.CLASS_NAME,\"nav-search-field\")"
   ]
  },
  {
   "cell_type": "code",
   "execution_count": null,
   "id": "43ff6da0",
   "metadata": {},
   "outputs": [],
   "source": [
    "search_input=driver.find_element(By.XPATH,\"/html/body/div[1]/header/div/div[1]/div[2]/div/form/div[2]/div[1]/input\")\n",
    "search_input.send_keys(\"guitar\")\n",
    "search_button=driver.find_element(By.XPATH,'/html/body/div[1]/header/div/div[1]/div[2]/div/form/div[3]/div')\n",
    "search_button.click()\n",
    "time.sleep(3)"
   ]
  },
  {
   "cell_type": "code",
   "execution_count": null,
   "id": "79b00af8",
   "metadata": {},
   "outputs": [],
   "source": [
    "# fetching url to open each product name\n",
    "URL=[]\n",
    "start=0\n",
    "end=3\n",
    "\n",
    "for page in range (start,end):\n",
    "    url=driver.find_elements(By.XPATH,'//a[@class=\"a-link-normal s-underline-text s-underline-link-text s-link-style a-text-normal\"]')\n",
    "    \n",
    "    for i in url:\n",
    "     URL.append(i.get_attribute('href'))\n",
    "    \n",
    "    next_button=driver.find_elements(By.XPATH,'/html/body/div[1]/div[2]/div[1]/div[1]/div/span[3]/div[2]/div[69]/div/div/span/a[3]')"
   ]
  },
  {
   "cell_type": "code",
   "execution_count": null,
   "id": "7847a8fc",
   "metadata": {},
   "outputs": [],
   "source": [
    "len(URL)"
   ]
  },
  {
   "cell_type": "code",
   "execution_count": null,
   "id": "f1e9dfac",
   "metadata": {},
   "outputs": [],
   "source": [
    "URL"
   ]
  }
 ],
 "metadata": {
  "kernelspec": {
   "display_name": "Python 3",
   "language": "python",
   "name": "python3"
  },
  "language_info": {
   "codemirror_mode": {
    "name": "ipython",
    "version": 3
   },
   "file_extension": ".py",
   "mimetype": "text/x-python",
   "name": "python",
   "nbconvert_exporter": "python",
   "pygments_lexer": "ipython3",
   "version": "3.8.8"
  }
 },
 "nbformat": 4,
 "nbformat_minor": 5
}
